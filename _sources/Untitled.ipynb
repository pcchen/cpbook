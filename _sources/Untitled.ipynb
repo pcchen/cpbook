{
 "cells": [
  {
   "cell_type": "code",
   "execution_count": 1,
   "id": "d21ac9ae-df0b-4e06-8032-b84724e7c126",
   "metadata": {},
   "outputs": [],
   "source": [
    "import cytnx\n",
    "import numpy as np"
   ]
  },
  {
   "cell_type": "code",
   "execution_count": 28,
   "id": "d6907ea0-7170-4849-8865-01e811de3ce5",
   "metadata": {},
   "outputs": [
    {
     "name": "stdout",
     "output_type": "stream",
     "text": [
      "\n",
      "Total elem: 4\n",
      "type  : Double (Float64)\n",
      "cytnx device: CPU\n",
      "Shape : (2,2)\n",
      "[[0.00000e+00 1.00000e+00 ]\n",
      " [2.00000e+00 3.00000e+00 ]]\n",
      "\n",
      "\n"
     ]
    },
    {
     "data": {
      "text/plain": []
     },
     "execution_count": 28,
     "metadata": {},
     "output_type": "execute_result"
    }
   ],
   "source": [
    "cytnx.arange(4).reshape(2,2)"
   ]
  },
  {
   "cell_type": "code",
   "execution_count": 32,
   "id": "74fd0bf0-61ed-43de-9886-fd58f8f59c14",
   "metadata": {},
   "outputs": [],
   "source": [
    "bd_i = cytnx.Bond(2, cytnx.BD_IN)\n",
    "bd_o = cytnx.Bond(2, cytnx.BD_OUT)"
   ]
  },
  {
   "cell_type": "code",
   "execution_count": 43,
   "id": "e56e332a-0910-419c-b09d-88d541681239",
   "metadata": {},
   "outputs": [
    {
     "name": "stdout",
     "output_type": "stream",
     "text": [
      "-----------------------\n",
      "tensor Name : T\n",
      "tensor Rank : 2\n",
      "block_form  : False\n",
      "is_diag     : False\n",
      "on device   : cytnx device: CPU\n",
      "braket_form : True\n",
      "      row           col \n",
      "         -----------    \n",
      "         |         |    \n",
      "   l  -->| 2     2 |-->  r\n",
      "         |         |    \n",
      "         -----------    \n",
      "-------- start of print ---------\n",
      "Tensor name: T\n",
      "braket_form : True\n",
      "is_diag    : False\n",
      "contiguous : True\n",
      "\n",
      "Total elem: 4\n",
      "type  : Double (Float64)\n",
      "cytnx device: CPU\n",
      "Shape : (2,2)\n",
      "[[0.00000e+00 1.00000e+00 ]\n",
      " [2.00000e+00 3.00000e+00 ]]\n",
      "\n",
      "\n",
      "\n",
      "\n",
      "-----------------------\n",
      "tensor Name : Tdag\n",
      "tensor Rank : 2\n",
      "block_form  : False\n",
      "is_diag     : False\n",
      "on device   : cytnx device: CPU\n",
      "braket_form : False\n",
      "      row           col \n",
      "         -----------    \n",
      "         |         |    \n",
      "   l *<--| 2     2 |<--* r\n",
      "         |         |    \n",
      "         -----------    \n",
      "-------- start of print ---------\n",
      "Tensor name: Tdag\n",
      "braket_form : False\n",
      "is_diag    : False\n",
      "contiguous : True\n",
      "\n",
      "Total elem: 4\n",
      "type  : Double (Float64)\n",
      "cytnx device: CPU\n",
      "Shape : (2,2)\n",
      "[[0.00000e+00 1.00000e+00 ]\n",
      " [2.00000e+00 3.00000e+00 ]]\n",
      "\n",
      "\n",
      "\n",
      "\n",
      "-----------------------\n",
      "tensor Name : Td\n",
      "tensor Rank : 2\n",
      "block_form  : False\n",
      "is_diag     : False\n",
      "on device   : cytnx device: CPU\n",
      "braket_form : True\n",
      "      row           col \n",
      "         -----------    \n",
      "         |         |    \n",
      "   r  -->| 2     2 |-->  l\n",
      "         |         |    \n",
      "         -----------    \n"
     ]
    }
   ],
   "source": [
    "T = cytnx.UniTensor([bd_i,bd_o]).set_labels(['l','r']).set_name('T')\n",
    "T.print_diagram()\n",
    "T.put_block(cytnx.arange(4).reshape(2,2))\n",
    "print(T)\n",
    "Tdag = T.Dagger().set_name('Tdag')\n",
    "Tdag.print_diagram()\n",
    "print(Tdag)\n",
    "\n",
    "# Tdag.permute_(['r','l'])\n",
    "# Tdag.print_diagram()\n",
    "# print(Tdag)\n",
    "\n",
    "Td = Tdag.permute(['r','l']).set_name('Td')\n",
    "Td.print_diagram()"
   ]
  },
  {
   "cell_type": "code",
   "execution_count": 42,
   "id": "0c40e5e8-02af-419f-9ead-5bb36179660e",
   "metadata": {},
   "outputs": [
    {
     "name": "stdout",
     "output_type": "stream",
     "text": [
      "==== Network ====\n",
      "[x] T : T_l T_r-Tdag_r \n",
      "[x] Tdag : Tdag_l T_r-Tdag_r \n",
      "TOUT : T_l ; Tdag_l \n",
      "ORDER : \n",
      "=================\n",
      "\n"
     ]
    }
   ],
   "source": [
    "net = cytnx.Network()\n",
    "net.FromString([\"T: T_l, T_r-Tdag_r\",\\\n",
    "                \"Tdag: Tdag_l, T_r-Tdag_r\",\\\n",
    "                \"TOUT: T_l; Tdag_l\",\\\n",
    "                \"ORDER:\"])\n",
    "print(net)"
   ]
  },
  {
   "cell_type": "code",
   "execution_count": 36,
   "id": "46723abb-88f3-4ad9-99f6-088b33867214",
   "metadata": {},
   "outputs": [
    {
     "name": "stdout",
     "output_type": "stream",
     "text": [
      "==== Network ====\n",
      "[o] T : T_l T_r-Tdag_r \n",
      "[o] Tdag : Tdag_l T_r-Tdag_r \n",
      "TOUT : T_l ; Tdag_l \n",
      "ORDER : \n",
      "=================\n",
      "\n",
      "-----------------------\n",
      "tensor Name : <TTdag>\n",
      "tensor Rank : 2\n",
      "block_form  : False\n",
      "is_diag     : False\n",
      "on device   : cytnx device: CPU\n",
      "braket_form : True\n",
      "        row           col \n",
      "           -----------    \n",
      "           |         |    \n",
      "   T_l  -->| 2     2 |-->  Tdag_l\n",
      "           |         |    \n",
      "           -----------    \n",
      "-------- start of print ---------\n",
      "Tensor name: <TTdag>\n",
      "braket_form : True\n",
      "is_diag    : False\n",
      "contiguous : True\n",
      "\n",
      "Total elem: 4\n",
      "type  : Double (Float64)\n",
      "cytnx device: CPU\n",
      "Shape : (2,2)\n",
      "[[1.00000e+00 3.00000e+00 ]\n",
      " [3.00000e+00 1.30000e+01 ]]\n",
      "\n",
      "\n",
      "\n",
      "\n"
     ]
    }
   ],
   "source": [
    "net.PutUniTensor(\"T\", T, [\"l\",\"r\"])\n",
    "net.PutUniTensor(\"Tdag\", Tdag, [\"l\",\"r\"])\n",
    "print(net)\n",
    "Tout = net.Launch().set_name('<TTdag>')\n",
    "Tout.print_diagram()\n",
    "print(Tout)"
   ]
  },
  {
   "cell_type": "code",
   "execution_count": null,
   "id": "552ccf69-fddd-4fc8-9176-70aeb6622004",
   "metadata": {},
   "outputs": [],
   "source": []
  },
  {
   "cell_type": "code",
   "execution_count": null,
   "id": "8deb955d-f104-4430-be77-9fd337133b4b",
   "metadata": {},
   "outputs": [],
   "source": []
  }
 ],
 "metadata": {
  "kernelspec": {
   "display_name": "Python 3 (ipykernel)",
   "language": "python",
   "name": "python3"
  },
  "language_info": {
   "codemirror_mode": {
    "name": "ipython",
    "version": 3
   },
   "file_extension": ".py",
   "mimetype": "text/x-python",
   "name": "python",
   "nbconvert_exporter": "python",
   "pygments_lexer": "ipython3",
   "version": "3.10.13"
  }
 },
 "nbformat": 4,
 "nbformat_minor": 5
}
