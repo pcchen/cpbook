{
 "cells": [
  {
   "cell_type": "markdown",
   "id": "68f7ed2e-7a0a-4253-8f52-951338958e5c",
   "metadata": {},
   "source": [
    "**cytnx.zeros(shape, dtype=float, device=)**\n",
    "\n",
    "Return a new array of given shape and type, filled with zeros.\n",
    "\n"
   ]
  },
  {
   "cell_type": "markdown",
   "id": "e023d315-eac0-4a63-ab8f-a1122aa15e63",
   "metadata": {},
   "source": [
    "* Parameters\n",
    "shapeint or tuple of ints\n",
    "Shape of the new array, e.g., (2, 3) or 2.\n",
    "\n",
    "dtypedata-type, optional\n",
    "The desired data-type for the array, e.g., numpy.int8. Default is numpy.float64.\n",
    "\n",
    "order{‘C’, ‘F’}, optional, default: ‘C’\n",
    "Whether to store multi-dimensional data in row-major (C-style) or column-major (Fortran-style) order in memory.\n",
    "\n",
    "likearray_like\n",
    "Reference object to allow the creation of arrays which are not NumPy arrays. If an array-like passed in as like supports the __array_function__ protocol, the result will be defined by it. In this case, it ensures the creation of an array object compatible with that passed in via this argument.\n",
    "\n",
    "New in version 1.20.0.\n",
    "\n",
    "Returns\n",
    "outndarray\n",
    "Array of zeros with the given shape, dtype, and order."
   ]
  },
  {
   "cell_type": "markdown",
   "id": "2fb1a516-a901-4919-aace-dcfae27c1e20",
   "metadata": {},
   "source": [
    "```{note}\n",
    "Here is a note\n",
    "```"
   ]
  },
  {
   "cell_type": "code",
   "execution_count": null,
   "id": "c9907ebf-2841-44fb-adc3-d21fdc4cbdd0",
   "metadata": {},
   "outputs": [],
   "source": []
  }
 ],
 "metadata": {
  "kernelspec": {
   "display_name": "Python 3 (ipykernel)",
   "language": "python",
   "name": "python3"
  },
  "language_info": {
   "codemirror_mode": {
    "name": "ipython",
    "version": 3
   },
   "file_extension": ".py",
   "mimetype": "text/x-python",
   "name": "python",
   "nbconvert_exporter": "python",
   "pygments_lexer": "ipython3",
   "version": "3.9.5"
  }
 },
 "nbformat": 4,
 "nbformat_minor": 5
}
