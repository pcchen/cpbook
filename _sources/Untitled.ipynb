{
 "cells": [
  {
   "cell_type": "markdown",
   "id": "71945950-d43b-4ea1-b667-3b111fdee844",
   "metadata": {},
   "source": [
    "import numpy as np\n",
    "import matplotlib.pyplot as plt"
   ]
  },
  {
   "cell_type": "markdown",
   "id": "b8b1d7f7-3df0-4b13-9b5e-57694b81edba",
   "metadata": {},
   "source": [
    "## 1D 4-sites Ising model"
   ]
  },
  {
   "cell_type": "code",
   "execution_count": 29,
   "id": "aa3fb3ff-4c47-4735-929b-6c6db592f4db",
   "metadata": {},
   "outputs": [
    {
     "data": {
      "text/plain": [
       "16.32428948735382"
      ]
     },
     "execution_count": 29,
     "metadata": {},
     "output_type": "execute_result"
    }
   ],
   "source": [
    "def E4(J, h, s1, s2, s3, s4):\n",
    "    return -J*(s1*s2+s2*s3+s3*s4+s4*s1)-h*(s1+s2+s3+s4)\n",
    "\n",
    "\n",
    "def Z4(J, h, β):\n",
    "    Z = 0.0\n",
    "    for s1 in [+1, -1]:\n",
    "        for s2 in [+1, -1]:\n",
    "            for s3 in [+1, -1]:\n",
    "                for s4 in [+1, -1]:\n",
    "                    Z = Z + np.exp(-β*E4(J,h,s1,s2,s3,s4))\n",
    "    return Z\n",
    "Z4(1, 0, 0.1)"
   ]
  },
  {
   "cell_type": "code",
   "execution_count": 31,
   "id": "82149ffb-0f9d-4293-87d5-ee1296af8778",
   "metadata": {},
   "outputs": [],
   "source": [
    "def TM(J, h, β):\n",
    "    return np.array([[np.exp(+β*J+β*h), np.exp(-β*J)],\n",
    "                     [np.exp(-β*J), np.exp(+β*J-β*h)]])"
   ]
  },
  {
   "cell_type": "code",
   "execution_count": 35,
   "id": "99b1e2fc-f2f9-4a86-841c-ebe85e8d30e1",
   "metadata": {},
   "outputs": [
    {
     "data": {
      "text/plain": [
       "16.324289487353823"
      ]
     },
     "execution_count": 35,
     "metadata": {},
     "output_type": "execute_result"
    }
   ],
   "source": [
    "J = 1\n",
    "h = 0\n",
    "β = 0.1\n",
    "np.trace(TM(J, h, β) @ TM(J, h, β) @ TM(J, h, β) @ TM(J, h, β))"
   ]
  },
  {
   "cell_type": "code",
   "execution_count": 1,
   "id": "e0c80be0-26ea-4e85-8e5f-90d3a38a5c97",
   "metadata": {},
   "outputs": [],
   "source": [
    "def λ0(J, h, β):\n",
    "    return np.exp(β*J)*np.cosh(β*h)+np.sqrt(np.exp(2*β*J)*(np.sinh(β*h)**2) + np.exp(-2*β*J))\n",
    "\n",
    "def λ1(J, h, β):\n",
    "    return np.exp(β*J)*np.cosh(β*h)-np.sqrt(np.exp(2*β*J)*(np.sinh(β*h)**2) + np.exp(-2*β*J))"
   ]
  },
  {
   "cell_type": "code",
   "execution_count": 20,
   "id": "c772cc03-e896-43a9-a153-e2ced31a2030",
   "metadata": {},
   "outputs": [],
   "source": [
    "def Z(N, J, h, β):\n",
    "    return λ0(J, h, β)**N + λ1(J, h, β)**N"
   ]
  },
  {
   "cell_type": "code",
   "execution_count": 23,
   "id": "93361942-f5a1-486e-8bcc-a3af8b9e6086",
   "metadata": {},
   "outputs": [
    {
     "data": {
      "text/plain": [
       "16.324289487353813"
      ]
     },
     "execution_count": 23,
     "metadata": {},
     "output_type": "execute_result"
    }
   ],
   "source": [
    "Z(4, 1, 0, 0.1)"
   ]
  },
  {
   "cell_type": "code",
   "execution_count": null,
   "id": "635fc723-13bd-495f-8380-d75ef96e0095",
   "metadata": {},
   "outputs": [],
   "source": []
  }
 ],
 "metadata": {
  "kernelspec": {
   "display_name": "Python 3 (ipykernel)",
   "language": "python",
   "name": "python3"
  },
  "language_info": {
   "codemirror_mode": {
    "name": "ipython",
    "version": 3
   },
   "file_extension": ".py",
   "mimetype": "text/x-python",
   "name": "python",
   "nbconvert_exporter": "python",
   "pygments_lexer": "ipython3",
   "version": "3.9.5"
  }
 },
 "nbformat": 4,
 "nbformat_minor": 5
}
