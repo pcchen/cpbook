{
 "cells": [
  {
   "cell_type": "markdown",
   "id": "100756df-7800-4996-a0c0-694883405bac",
   "metadata": {},
   "source": [
    "# The Hitchhiker's Guide to Cytnx (≥0.9.7)\n",
    "\n",
    "* Last updated on 12/2/2023\n",
    "* Pochung Chen"
   ]
  },
  {
   "cell_type": "markdown",
   "id": "c6ba4b37-4eb5-4af1-ad38-2035bd4fde88",
   "metadata": {},
   "source": [
    "## Installation\n",
    "\n",
    "````\n",
    "conda config --add channels conda-forge\n",
    "conda create --channel conda-forge --name py39_cytnx python=3.9 _openmp_mutex=*=*_llvm\n",
    "````"
   ]
  },
  {
   "cell_type": "markdown",
   "id": "cfca194e-fcb4-4d52-bdef-27f58a86295e",
   "metadata": {},
   "source": [
    "## Warning\n",
    "* import cytnx before numpy"
   ]
  },
  {
   "cell_type": "code",
   "execution_count": 1,
   "id": "9fab09d4-42c7-4a43-a231-c00c57717160",
   "metadata": {},
   "outputs": [],
   "source": [
    "import cytnx\n",
    "import numpy as np"
   ]
  },
  {
   "cell_type": "code",
   "execution_count": 2,
   "id": "ad4f1346-5c6f-4306-8ec0-e79cc7e85391",
   "metadata": {},
   "outputs": [
    {
     "name": "stdout",
     "output_type": "stream",
     "text": [
      "['/Users/pcchen/miniforge3/lib/python3.10/site-packages/cytnx-0.9.7-py3.10-macosx-11.0-arm64.egg/cytnx']\n",
      "0.9.7\n"
     ]
    }
   ],
   "source": [
    "print(cytnx.__path__)\n",
    "print(cytnx.__version__)"
   ]
  },
  {
   "cell_type": "markdown",
   "id": "94ee9c06-b7b1-4338-849a-e916ff5e3ab5",
   "metadata": {
    "tags": []
   },
   "source": [
    "## Numpy"
   ]
  },
  {
   "cell_type": "code",
   "execution_count": 3,
   "id": "d7703620-1b8c-499b-a630-5efb0f3a48d6",
   "metadata": {},
   "outputs": [
    {
     "name": "stdout",
     "output_type": "stream",
     "text": [
      "[[1. 1. 1.]]\n",
      "[[1.]\n",
      " [1.]\n",
      " [1.]]\n"
     ]
    }
   ],
   "source": [
    "Vr = np.ones([1,3])\n",
    "print(Vr)\n",
    "\n",
    "Vc = np.ones([3,1])\n",
    "print(Vc)"
   ]
  },
  {
   "cell_type": "code",
   "execution_count": 36,
   "id": "3be0667d-a366-4d13-84b1-65bd27ecab6e",
   "metadata": {},
   "outputs": [
    {
     "name": "stdout",
     "output_type": "stream",
     "text": [
      "[1. 1. 1.]\n",
      "(3,)\n",
      "(1, 3)\n",
      "(3, 1)\n"
     ]
    }
   ],
   "source": [
    "V = np.ones(3)\n",
    "print(V)\n",
    "print(V.shape)\n",
    "print(Vr.shape)\n",
    "print(Vc.shape)"
   ]
  },
  {
   "cell_type": "code",
   "execution_count": null,
   "id": "2cd45848-ddbb-4ab7-9cdf-a40ca2517003",
   "metadata": {},
   "outputs": [],
   "source": []
  },
  {
   "cell_type": "code",
   "execution_count": 46,
   "id": "214aa583-b62e-4e3c-8fed-0e6b3259d559",
   "metadata": {},
   "outputs": [
    {
     "name": "stdout",
     "output_type": "stream",
     "text": [
      "-------- start of print ---------\n",
      "Tensor name: \n",
      "is_diag    : False\n",
      "contiguous : True\n",
      "\n",
      "Total elem: 3\n",
      "type  : Double (Float64)\n",
      "cytnx device: CPU\n",
      "Shape : (1,3)\n",
      "[[1.00000e+00 1.00000e+00 1.00000e+00 ]]\n",
      "\n",
      "\n",
      "\n",
      "\n",
      "-------- start of print ---------\n",
      "Tensor name: \n",
      "is_diag    : False\n",
      "contiguous : True\n",
      "\n",
      "Total elem: 3\n",
      "type  : Double (Float64)\n",
      "cytnx device: CPU\n",
      "Shape : (3,1)\n",
      "[[1.00000e+00 ]\n",
      " [1.00000e+00 ]\n",
      " [1.00000e+00 ]]\n",
      "\n",
      "\n",
      "\n",
      "\n"
     ]
    }
   ],
   "source": [
    "UTr = cytnx.UniTensor.ones([1,3])\n",
    "print(UTr)\n",
    "\n",
    "UTc = cytnx.UniTensor.ones([3,1])\n",
    "print(UTc)"
   ]
  },
  {
   "cell_type": "code",
   "execution_count": 63,
   "id": "5f93595f-bd7f-456d-84bf-399ac15fa975",
   "metadata": {},
   "outputs": [
    {
     "name": "stdout",
     "output_type": "stream",
     "text": [
      "rowrank=1\n",
      "-----------------------\n",
      "tensor Name : \n",
      "tensor Rank : 2\n",
      "block_form  : False\n",
      "is_diag     : False\n",
      "on device   : cytnx device: CPU\n",
      "          ---------     \n",
      "         /         \\    \n",
      "   0 ____| 3     1 |____ 1\n",
      "         \\         /    \n",
      "          ---------     \n",
      "-------- start of print ---------\n",
      "Tensor name: \n",
      "is_diag    : False\n",
      "contiguous : True\n",
      "\n",
      "Total elem: 3\n",
      "type  : Double (Float64)\n",
      "cytnx device: CPU\n",
      "Shape : (3,1)\n",
      "[[1.00000e+00 ]\n",
      " [1.00000e+00 ]\n",
      " [1.00000e+00 ]]\n",
      "\n",
      "\n",
      "\n",
      "\n"
     ]
    }
   ],
   "source": [
    "A = cytnx.UniTensor.ones([3,3])\n",
    "# print(\"rowrank={}\".format(A.rowrank()))\n",
    "# A.print_diagram()\n",
    "# print(A[:,2])\n",
    "\n",
    "A2 = A[:,2].reshape(3,1).set_rowrank(1)\n",
    "print(\"rowrank={}\".format(A2.rowrank()))\n",
    "A2.print_diagram()\n",
    "print(A2)"
   ]
  },
  {
   "cell_type": "code",
   "execution_count": null,
   "id": "36024b37-3804-4dcb-b73e-3759b6055fc3",
   "metadata": {},
   "outputs": [],
   "source": []
  },
  {
   "cell_type": "code",
   "execution_count": null,
   "id": "974e9de5-2682-41fb-a83d-a518fc5d2878",
   "metadata": {},
   "outputs": [],
   "source": [
    "A2 = A[:,2].reshape(2,1).set_rowrank(1)\n",
    "print(\"rowrank={}\".format(A.rowrank()))\n",
    "print(A2.shape())\n",
    "A2.print_diagram()\n",
    "print(\"2-th column\\n\", A[:,2]) # 2-th column"
   ]
  },
  {
   "cell_type": "code",
   "execution_count": null,
   "id": "bcf0bbe1-d527-4257-b6e2-88d51fc2b972",
   "metadata": {},
   "outputs": [],
   "source": []
  },
  {
   "cell_type": "markdown",
   "id": "28c6ec56-5007-4f48-ac35-a3c1d670f819",
   "metadata": {
    "tags": []
   },
   "source": [
    "## Tensor"
   ]
  },
  {
   "cell_type": "code",
   "execution_count": 3,
   "id": "3659b5f8-d251-442b-a459-3a34a2624772",
   "metadata": {},
   "outputs": [
    {
     "name": "stdout",
     "output_type": "stream",
     "text": [
      "(1, 2)\n",
      "[[1. 1.]]\n",
      "(1, 2)\n",
      "[[1. 1.]]\n"
     ]
    }
   ],
   "source": [
    "T = numpy.ones((1,2))\n",
    "print(T.shape)\n",
    "print(T)\n",
    "T.reshape((2,1))\n",
    "print(T.shape)\n",
    "print(T)"
   ]
  },
  {
   "cell_type": "code",
   "execution_count": 4,
   "id": "5fdc721e-0296-4b17-8c42-d36485909829",
   "metadata": {},
   "outputs": [
    {
     "name": "stdout",
     "output_type": "stream",
     "text": [
      "(2,)\n",
      "[1. 1.]\n"
     ]
    }
   ],
   "source": [
    "T = numpy.array([1., 1.])\n",
    "print(T.shape)\n",
    "print(T)"
   ]
  },
  {
   "cell_type": "code",
   "execution_count": 5,
   "id": "36804f19-c1cd-44d4-9a21-1a885f7dc36f",
   "metadata": {},
   "outputs": [
    {
     "name": "stdout",
     "output_type": "stream",
     "text": [
      "(2, 1)\n",
      "[[1.]\n",
      " [1.]]\n"
     ]
    }
   ],
   "source": [
    "T = numpy.array([[1.], [1.]])\n",
    "print(T.shape)\n",
    "print(T)"
   ]
  },
  {
   "cell_type": "code",
   "execution_count": null,
   "id": "17e6212d-5100-4c8d-ad80-00be318fb2d8",
   "metadata": {},
   "outputs": [],
   "source": []
  },
  {
   "cell_type": "markdown",
   "id": "561ba9ff-a180-4810-8c65-3cacca494eb6",
   "metadata": {},
   "source": [
    "## UniTensor"
   ]
  },
  {
   "cell_type": "markdown",
   "id": "b6adbfa9-f1db-45b1-982f-d6695e230312",
   "metadata": {
    "tags": []
   },
   "source": [
    "### Rank $n$ UniTensor and scalar\n",
    "Consider a rank-$n$ UniTensor $A$ with the shape $(1_1,1_2,\\dots,1_{n-1},1_n)$. \n",
    "It has only one element $A_{0_10_2\\dots0_{n-1}0_n}$. \n",
    "How do one gets the value of this element? Note that slicing will give you a tensor. \n",
    "\n",
    "As an exmple, consider a rank-5 UniTensor $A$ with shape (1,1,1,1,1) with one elment $A_{00000}=1.0$\n",
    "If you use slicing, `A[0,0,0,0,0]` is still a UniTensor. To get its value, one can use `A[0,0,0,0,0].item()`.\n",
    "Or one can use `A.at([0,0,0,0,0]).value()`.\n",
    "\n"
   ]
  },
  {
   "cell_type": "code",
   "execution_count": 25,
   "id": "bfeb1b1e-f741-4ea7-a698-59f23dad5e9d",
   "metadata": {},
   "outputs": [
    {
     "name": "stdout",
     "output_type": "stream",
     "text": [
      "shape=[1]\n",
      "1.0\n",
      "1.0\n",
      "shape=[1, 1]\n",
      "1.0\n",
      "1.0\n",
      "shape=[1, 1, 1]\n",
      "1.0\n",
      "1.0\n",
      "shape=[1, 1, 1, 1]\n",
      "1.0\n",
      "1.0\n",
      "shape=[1, 1, 1, 1, 1]\n",
      "1.0\n",
      "1.0\n"
     ]
    }
   ],
   "source": [
    "for n in range(1,6):\n",
    "    shape = [1 for i in range(n)]\n",
    "    index = [0 for i in range(n)]\n",
    "\n",
    "    S = cytnx.UniTensor.ones(shape)\n",
    "    print('shape={}'.format(S.shape()))\n",
    "    print(S.item())\n",
    "    print(S.at(index).value)"
   ]
  },
  {
   "cell_type": "markdown",
   "id": "e37da503-afb5-45f4-9634-ca9a1b73a849",
   "metadata": {},
   "source": [
    "### Rank-1 tensor and vector\n",
    "\n"
   ]
  },
  {
   "cell_type": "code",
   "execution_count": 29,
   "id": "36e9c618-d96d-4a29-93e8-74a634a0a2ae",
   "metadata": {},
   "outputs": [
    {
     "name": "stdout",
     "output_type": "stream",
     "text": [
      "[3]\n",
      "0\n",
      "-----------------------\n",
      "tensor Name : \n",
      "tensor Rank : 1\n",
      "block_form  : False\n",
      "is_diag     : False\n",
      "on device   : cytnx device: CPU\n",
      "         --------     \n",
      "        /        \\    \n",
      "        |      3 |____ 0\n",
      "        \\        /    \n",
      "         --------     \n",
      "-------- start of print ---------\n",
      "Tensor name: \n",
      "is_diag    : False\n",
      "contiguous : True\n",
      "\n",
      "Total elem: 3\n",
      "type  : Double (Float64)\n",
      "cytnx device: CPU\n",
      "Shape : (3)\n",
      "[0.00000e+00 1.00000e+00 2.00000e+00 ]\n",
      "\n",
      "\n",
      "\n",
      "\n"
     ]
    }
   ],
   "source": [
    "V = cytnx.UniTensor.arange(3)\n",
    "print(V.shape())\n",
    "print(V.rowrank())\n",
    "V.print_diagram()\n",
    "print(V)"
   ]
  },
  {
   "cell_type": "code",
   "execution_count": 30,
   "id": "d8c4f85b-c5c9-4f06-848e-80a41f81043a",
   "metadata": {},
   "outputs": [
    {
     "name": "stdout",
     "output_type": "stream",
     "text": [
      "[3]\n",
      "1\n",
      "-----------------------\n",
      "tensor Name : \n",
      "tensor Rank : 1\n",
      "block_form  : False\n",
      "is_diag     : False\n",
      "on device   : cytnx device: CPU\n",
      "          --------     \n",
      "         /        \\    \n",
      "   0 ____| 3      |        \n",
      "         \\        /    \n",
      "          --------     \n",
      "-------- start of print ---------\n",
      "Tensor name: \n",
      "is_diag    : False\n",
      "contiguous : True\n",
      "\n",
      "Total elem: 3\n",
      "type  : Double (Float64)\n",
      "cytnx device: CPU\n",
      "Shape : (3)\n",
      "[0.00000e+00 1.00000e+00 2.00000e+00 ]\n",
      "\n",
      "\n",
      "\n",
      "\n"
     ]
    }
   ],
   "source": [
    "V = cytnx.UniTensor.arange(3).set_rowrank(1)\n",
    "print(V.shape())\n",
    "print(V.rowrank())\n",
    "V.print_diagram()\n",
    "print(V)"
   ]
  },
  {
   "cell_type": "code",
   "execution_count": null,
   "id": "8c27fc7f-0652-4137-95d2-de010f9f6f31",
   "metadata": {},
   "outputs": [],
   "source": []
  },
  {
   "cell_type": "code",
   "execution_count": 81,
   "id": "9f2f217c-c316-4bc6-b59d-68eeed8223e9",
   "metadata": {},
   "outputs": [
    {
     "name": "stdout",
     "output_type": "stream",
     "text": [
      "-----------------------\n",
      "tensor Name : \n",
      "tensor Rank : 1\n",
      "block_form  : False\n",
      "is_diag     : False\n",
      "on device   : cytnx device: CPU\n",
      "         --------     \n",
      "        /        \\    \n",
      "        |      3 |____ 0\n",
      "        \\        /    \n",
      "         --------     \n",
      "-------- start of print ---------\n",
      "Tensor name: \n",
      "is_diag    : False\n",
      "contiguous : True\n",
      "\n",
      "Total elem: 3\n",
      "type  : Double (Float64)\n",
      "cytnx device: CPU\n",
      "Shape : (3)\n",
      "[0.00000e+00 1.00000e+00 2.00000e+00 ]\n",
      "\n",
      "\n",
      "\n"
     ]
    },
    {
     "data": {
      "text/plain": []
     },
     "execution_count": 81,
     "metadata": {},
     "output_type": "execute_result"
    }
   ],
   "source": [
    "V = cytnx.UniTensor.arange(3)\n",
    "V.print_diagram()\n",
    "V"
   ]
  },
  {
   "cell_type": "code",
   "execution_count": 73,
   "id": "450b96bd-f19a-4a2d-b673-9e2eb4ff5530",
   "metadata": {},
   "outputs": [
    {
     "name": "stdout",
     "output_type": "stream",
     "text": [
      "-----------------------\n",
      "tensor Name : \n",
      "tensor Rank : 1\n",
      "block_form  : False\n",
      "is_diag     : False\n",
      "on device   : cytnx device: CPU\n",
      "         --------     \n",
      "        /        \\    \n",
      "        |      3 |____ 0\n",
      "        \\        /    \n",
      "         --------     \n",
      "-------- start of print ---------\n",
      "Tensor name: \n",
      "is_diag    : False\n",
      "contiguous : True\n",
      "\n",
      "Total elem: 3\n",
      "type  : Double (Float64)\n",
      "cytnx device: CPU\n",
      "Shape : (3)\n",
      "[0.00000e+00 1.00000e+00 2.00000e+00 ]\n",
      "\n",
      "\n",
      "\n"
     ]
    },
    {
     "data": {
      "text/plain": []
     },
     "execution_count": 73,
     "metadata": {},
     "output_type": "execute_result"
    }
   ],
   "source": [
    "V = cytnx.UniTensor.arange(3).set_rowrank(0)\n",
    "V.print_diagram()\n",
    "V"
   ]
  },
  {
   "cell_type": "markdown",
   "id": "473d48da-7f34-453a-bb69-5eeb63f31e42",
   "metadata": {},
   "source": [
    "### Rank-2 tensor and matrix\n",
    "\n",
    "Consider a rank-2 tensor $A$ with elements $A_{ij}$ where $i \\in (0,1)$ and $j \\in (0,1,2)$. The shape of $A$ is $(2,3)$. \n",
    "\n",
    "We can define a corresponding $2\\times 3$ matrix $[A]$ with the same elemtns $A_{i,j}$\n",
    "$$\n",
    "  \\left[ \\begin{array}{ccc}\n",
    "  A_{0,0} & A_{0,1} & A_{0,2} \\\\\n",
    "  A_{1,0} & A_{1,1} & A_{1,2} \\\\\n",
    "  \\end{array} \\right].\n",
    "$$\n",
    "\n",
    "It has 2 rows and 3 columns. Hence $i$ is the row index while $j$ is the column index.\n",
    "Since there is only one index corresponds to the row index, we say that the **row rank is 1**.\n",
    "\n",
    "To distinguish them, we put a comma \",\" between them. On the left of the comma is the row index $i$, while on the right of the comma is the column index $j$.\n",
    "\n",
    "\n",
    "For example $i=1$-th row corresponds to $\\left[ \\begin{array}{ccc} A_{1,0} & A_{1,1} & A_{1,2} \\end{array} \\right]$, while $j=2$-th column corresponds to\n",
    "$\n",
    "  \\left[ \\begin{array}{c}\n",
    "  A_{0,2} \\\\\n",
    "  A_{1,2} \\\\\n",
    "  A_{2,2} \\\\\n",
    "  \\end{array} \\right].\n",
    "$"
   ]
  },
  {
   "cell_type": "code",
   "execution_count": 66,
   "id": "6ef99070-5c97-427e-87e5-50752504fe67",
   "metadata": {},
   "outputs": [
    {
     "name": "stdout",
     "output_type": "stream",
     "text": [
      "rowrank=1\n",
      "-----------------------\n",
      "tensor Name : A\n",
      "tensor Rank : 2\n",
      "block_form  : False\n",
      "is_diag     : False\n",
      "on device   : cytnx device: CPU\n",
      "          ---------     \n",
      "         /         \\    \n",
      "   0 ____| 2     3 |____ 1\n",
      "         \\         /    \n",
      "          ---------     \n",
      "-------- start of print ---------\n",
      "Tensor name: A\n",
      "is_diag    : False\n",
      "contiguous : True\n",
      "\n",
      "Total elem: 6\n",
      "type  : Double (Float64)\n",
      "cytnx device: CPU\n",
      "Shape : (2,3)\n",
      "[[0.00000e+00 1.00000e+00 2.00000e+00 ]\n",
      " [3.00000e+00 4.00000e+00 5.00000e+00 ]]\n",
      "\n",
      "\n",
      "\n",
      "\n"
     ]
    }
   ],
   "source": [
    "A = cytnx.UniTensor.arange(2*3).reshape(2,3).set_name('A').set_rowrank(1) # rank-2 tensor A with shape=(3,4) and rowrank=1\n",
    "print(\"rowrank={}\".format(A.rowrank()))\n",
    "A.print_diagram()\n",
    "print(A)"
   ]
  },
  {
   "cell_type": "code",
   "execution_count": 69,
   "id": "0c2ab098-ce34-4b27-b21f-5458aaebc23f",
   "metadata": {},
   "outputs": [
    {
     "name": "stdout",
     "output_type": "stream",
     "text": [
      "rowrank=1\n",
      "-----------------------\n",
      "tensor Name : \n",
      "tensor Rank : 2\n",
      "block_form  : False\n",
      "is_diag     : False\n",
      "on device   : cytnx device: CPU\n",
      "          ---------     \n",
      "         /         \\    \n",
      "   0 ____| 1     3 |____ 1\n",
      "         \\         /    \n",
      "          ---------     \n",
      "1-th row\n",
      " -------- start of print ---------\n",
      "Tensor name: \n",
      "is_diag    : False\n",
      "contiguous : True\n",
      "\n",
      "Total elem: 3\n",
      "type  : Double (Float64)\n",
      "cytnx device: CPU\n",
      "Shape : (1,3)\n",
      "[[3.00000e+00 4.00000e+00 5.00000e+00 ]]\n",
      "\n",
      "\n",
      "\n",
      "\n"
     ]
    }
   ],
   "source": [
    "Ar1 = A[1,:].reshape(1,3).set_rowrank(1)\n",
    "print(\"rowrank={}\".format(Ar1.rowrank()))\n",
    "Ar1.print_diagram()\n",
    "print(\"1-th row\\n\", Ar1) # 1-th row"
   ]
  },
  {
   "cell_type": "code",
   "execution_count": 70,
   "id": "cdebc0cf-7493-4cd9-b02a-a9d67b17acb0",
   "metadata": {},
   "outputs": [
    {
     "name": "stdout",
     "output_type": "stream",
     "text": [
      "rowrank=1\n",
      "[2, 1]\n",
      "-----------------------\n",
      "tensor Name : \n",
      "tensor Rank : 2\n",
      "block_form  : False\n",
      "is_diag     : False\n",
      "on device   : cytnx device: CPU\n",
      "          ---------     \n",
      "         /         \\    \n",
      "   0 ____| 2     1 |____ 1\n",
      "         \\         /    \n",
      "          ---------     \n",
      "2-th column\n",
      " -------- start of print ---------\n",
      "Tensor name: \n",
      "is_diag    : False\n",
      "contiguous : True\n",
      "\n",
      "Total elem: 2\n",
      "type  : Double (Float64)\n",
      "cytnx device: CPU\n",
      "Shape : (2,1)\n",
      "[[2.00000e+00 ]\n",
      " [5.00000e+00 ]]\n",
      "\n",
      "\n",
      "\n",
      "\n"
     ]
    }
   ],
   "source": [
    "Ac2 = A[:,2].reshape(2,1).set_rowrank(1)\n",
    "print(\"rowrank={}\".format(Ac2.rowrank()))\n",
    "print(Ac2.shape())\n",
    "Ac2.print_diagram()\n",
    "print(\"2-th column\\n\", Ac2) # 2-th column"
   ]
  },
  {
   "cell_type": "code",
   "execution_count": 30,
   "id": "fa5a7a41-20f7-4841-9a4d-fa7a16abd937",
   "metadata": {},
   "outputs": [
    {
     "name": "stdout",
     "output_type": "stream",
     "text": [
      "rowrank=1\n",
      "[2, 1]\n",
      "-----------------------\n",
      "tensor Name : X\n",
      "tensor Rank : 2\n",
      "block_form  : False\n",
      "is_diag     : False\n",
      "on device   : cytnx device: CPU\n",
      "          ---------     \n",
      "         /         \\    \n",
      "   0 ____| 2     1 |____ 1\n",
      "         \\         /    \n",
      "          ---------     \n",
      "-------- start of print ---------\n",
      "Tensor name: X\n",
      "is_diag    : False\n",
      "contiguous : True\n",
      "\n",
      "Total elem: 2\n",
      "type  : Double (Float64)\n",
      "cytnx device: CPU\n",
      "Shape : (2,1)\n",
      "[[0.00000e+00 ]\n",
      " [1.00000e+00 ]]\n",
      "\n",
      "\n",
      "\n",
      "\n"
     ]
    }
   ],
   "source": [
    "X = cytnx.UniTensor.arange(2*1).reshape(2,1).set_name('X').set_rowrank(1) # rank-2 tensor A with shape=(3,4) and rowrank=1\n",
    "print(\"rowrank={}\".format(X.rowrank()))\n",
    "print(X.shape())\n",
    "X.print_diagram()\n",
    "print(X)"
   ]
  },
  {
   "cell_type": "code",
   "execution_count": null,
   "id": "9013ac2b-549e-4b42-bb15-7a49ec13f933",
   "metadata": {},
   "outputs": [],
   "source": []
  },
  {
   "cell_type": "code",
   "execution_count": 11,
   "id": "b84537e4-5b38-4739-a287-4d9d8c6988ac",
   "metadata": {},
   "outputs": [
    {
     "name": "stdout",
     "output_type": "stream",
     "text": [
      "rank=5\n",
      "A=\n",
      " -------- start of print ---------\n",
      "Tensor name: \n",
      "is_diag    : False\n",
      "contiguous : True\n",
      "\n",
      "Total elem: 1\n",
      "type  : Double (Float64)\n",
      "cytnx device: CPU\n",
      "Shape : (1,1,1,1,1)\n",
      "[[[[[1.00000e+00 ]]]]]\n",
      "\n",
      "\n",
      "\n",
      "\n",
      "A[0,0,0,0,0]=\n",
      " -------- start of print ---------\n",
      "Tensor name: \n",
      "is_diag    : False\n",
      "contiguous : True\n",
      "\n",
      "Total elem: 1\n",
      "type  : Double (Float64)\n",
      "cytnx device: CPU\n",
      "Shape : (1)\n",
      "[1.00000e+00 ]\n",
      "\n",
      "\n",
      "\n",
      "\n",
      "A[0,0,0,0,0].item()=\n",
      " 1.0\n",
      "A.at([0,0,0,0,0]).value=\n",
      " 1.0\n"
     ]
    }
   ],
   "source": [
    "A = cytnx.UniTensor.ones([1,1,1,1,1])\n",
    "print('rank={}'.format(A.rank()))\n",
    "print('A=\\n',A)\n",
    "print('A[0,0,0,0,0]=\\n', A[0,0,0,0,0])\n",
    "print('A[0,0,0,0,0].item()=\\n', A[0,0,0,0,0].item())\n",
    "print('A.at([0,0,0,0,0]).value=\\n', A.at([0,0,0,0,0]).value)"
   ]
  },
  {
   "cell_type": "code",
   "execution_count": null,
   "id": "8eaad77c-9690-4b80-b460-123b34c65d53",
   "metadata": {},
   "outputs": [],
   "source": []
  },
  {
   "cell_type": "markdown",
   "id": "29081eb9-ca49-4e90-ae92-5f1e5711d42a",
   "metadata": {},
   "source": [
    "## issue"
   ]
  },
  {
   "cell_type": "code",
   "execution_count": 119,
   "id": "72c4b858-bca0-44d9-a5b2-49e66cb16ded",
   "metadata": {},
   "outputs": [
    {
     "ename": "RuntimeError",
     "evalue": "\n# Cytnx error occur at T& cytnx::Tensor::item() [with T = double]\n# error: [ERROR][Tensor.item<T>]item can only be called from a Tensor with only one element\n\n# file : /Users/pcchen/github/Cytnx/include/Tensor.hpp (915)",
     "output_type": "error",
     "traceback": [
      "\u001b[0;31m---------------------------------------------------------------------------\u001b[0m",
      "\u001b[0;31mRuntimeError\u001b[0m                              Traceback (most recent call last)",
      "Cell \u001b[0;32mIn [119], line 2\u001b[0m\n\u001b[1;32m      1\u001b[0m T \u001b[38;5;241m=\u001b[39m cytnx\u001b[38;5;241m.\u001b[39mones(\u001b[38;5;241m2\u001b[39m)\n\u001b[0;32m----> 2\u001b[0m \u001b[43mT\u001b[49m\u001b[38;5;241;43m.\u001b[39;49m\u001b[43mitem\u001b[49m\u001b[43m(\u001b[49m\u001b[43m)\u001b[49m\n",
      "\u001b[0;31mRuntimeError\u001b[0m: \n# Cytnx error occur at T& cytnx::Tensor::item() [with T = double]\n# error: [ERROR][Tensor.item<T>]item can only be called from a Tensor with only one element\n\n# file : /Users/pcchen/github/Cytnx/include/Tensor.hpp (915)"
     ]
    }
   ],
   "source": [
    "T = cytnx.ones(2)\n",
    "T.item()"
   ]
  },
  {
   "cell_type": "code",
   "execution_count": 120,
   "id": "1d91ed28-beee-4c2e-984b-36e3a5048788",
   "metadata": {},
   "outputs": [
    {
     "ename": "RuntimeError",
     "evalue": "\n# Cytnx error occur at T& cytnx::Tensor::item() [with T = double]\n# error: [ERROR][Tensor.item<T>]item can only be called from a Tensor with only one element\n\n# file : /Users/pcchen/github/Cytnx/include/Tensor.hpp (915)",
     "output_type": "error",
     "traceback": [
      "\u001b[0;31m---------------------------------------------------------------------------\u001b[0m",
      "\u001b[0;31mRuntimeError\u001b[0m                              Traceback (most recent call last)",
      "Cell \u001b[0;32mIn [120], line 2\u001b[0m\n\u001b[1;32m      1\u001b[0m UT \u001b[38;5;241m=\u001b[39m cytnx\u001b[38;5;241m.\u001b[39mUniTensor\u001b[38;5;241m.\u001b[39mones([\u001b[38;5;241m2\u001b[39m])\n\u001b[0;32m----> 2\u001b[0m \u001b[43mUT\u001b[49m\u001b[38;5;241;43m.\u001b[39;49m\u001b[43mitem\u001b[49m\u001b[43m(\u001b[49m\u001b[43m)\u001b[49m\n",
      "\u001b[0;31mRuntimeError\u001b[0m: \n# Cytnx error occur at T& cytnx::Tensor::item() [with T = double]\n# error: [ERROR][Tensor.item<T>]item can only be called from a Tensor with only one element\n\n# file : /Users/pcchen/github/Cytnx/include/Tensor.hpp (915)"
     ]
    }
   ],
   "source": [
    "UT = cytnx.UniTensor.ones([2])\n",
    "UT.item()"
   ]
  },
  {
   "cell_type": "markdown",
   "id": "7b32f7ce-14f2-4841-bf34-4e50cfd6dff6",
   "metadata": {},
   "source": [
    "## Separator"
   ]
  },
  {
   "cell_type": "code",
   "execution_count": null,
   "id": "8823b826-57cc-4702-951f-b2db9675e1e1",
   "metadata": {},
   "outputs": [],
   "source": []
  },
  {
   "cell_type": "code",
   "execution_count": null,
   "id": "a9a773b1-e559-4d83-815b-e59ce48a74ac",
   "metadata": {},
   "outputs": [],
   "source": []
  },
  {
   "cell_type": "code",
   "execution_count": 72,
   "id": "6b34b31c-a45d-485b-beef-f24f17420bb5",
   "metadata": {},
   "outputs": [
    {
     "name": "stdout",
     "output_type": "stream",
     "text": [
      "rowrank=1\n",
      "-----------------------\n",
      "tensor Name : \n",
      "tensor Rank : 2\n",
      "block_form  : False\n",
      "is_diag     : False\n",
      "on device   : cytnx device: CPU\n",
      "          ---------     \n",
      "         /         \\    \n",
      "   0 ____| 3     4 |____ 1\n",
      "         \\         /    \n",
      "          ---------     \n"
     ]
    }
   ],
   "source": [
    "A = cytnx.UniTensor.ones(12)\n",
    "A.reshape_(3,4)\n",
    "A.set_rowrank_(1) # rank-2 tensor A with shape=(3,4) and rowrank=1\n",
    "print(\"rowrank={}\".format(A.rowrank()))\n",
    "A.print_diagram()"
   ]
  },
  {
   "cell_type": "code",
   "execution_count": null,
   "id": "b48d6daf-4321-4c85-a460-a568a44542fb",
   "metadata": {},
   "outputs": [],
   "source": []
  },
  {
   "cell_type": "code",
   "execution_count": null,
   "id": "b7157966-101b-4e32-8fc1-b4eb2084b14f",
   "metadata": {},
   "outputs": [],
   "source": []
  },
  {
   "cell_type": "code",
   "execution_count": null,
   "id": "2ab0e47b-2799-4ced-a615-c39bfd612e9d",
   "metadata": {},
   "outputs": [],
   "source": []
  },
  {
   "cell_type": "code",
   "execution_count": 32,
   "id": "57110e00-49cb-4677-9d29-12aad6c9c6e7",
   "metadata": {},
   "outputs": [
    {
     "name": "stdout",
     "output_type": "stream",
     "text": [
      "-----------------------\n",
      "tensor Name : \n",
      "tensor Rank : 1\n",
      "block_form  : False\n",
      "is_diag     : False\n",
      "on device   : cytnx device: CPU\n",
      "         --------     \n",
      "        /        \\    \n",
      "        |      4 |____ 0\n",
      "        \\        /    \n",
      "         --------     \n",
      "-------- start of print ---------\n",
      "Tensor name: \n",
      "is_diag    : False\n",
      "contiguous : True\n",
      "\n",
      "Total elem: 4\n",
      "type  : Double (Float64)\n",
      "cytnx device: CPU\n",
      "Shape : (4)\n",
      "[4.00000e+00 5.00000e+00 6.00000e+00 7.00000e+00 ]\n",
      "\n",
      "\n",
      "\n",
      "\n",
      "rowrank=0\n",
      "-----------------------\n",
      "tensor Name : \n",
      "tensor Rank : 1\n",
      "block_form  : False\n",
      "is_diag     : False\n",
      "on device   : cytnx device: CPU\n",
      "         --------     \n",
      "        /        \\    \n",
      "        |      3 |____ 0\n",
      "        \\        /    \n",
      "         --------     \n",
      "-------- start of print ---------\n",
      "Tensor name: \n",
      "is_diag    : False\n",
      "contiguous : True\n",
      "\n",
      "Total elem: 3\n",
      "type  : Double (Float64)\n",
      "cytnx device: CPU\n",
      "Shape : (3)\n",
      "[2.00000e+00 6.00000e+00 1.00000e+01 ]\n",
      "\n",
      "\n",
      "\n",
      "\n",
      "rowrank=0\n"
     ]
    }
   ],
   "source": [
    "A[1,:].print_diagram()\n",
    "print(A[1,:])\n",
    "print(\"rowrank={}\".format(A[1,:].rowrank()))\n",
    "\n",
    "A[:,2].print_diagram()\n",
    "print(A[:,2])\n",
    "print(\"rowrank={}\".format(A[:,2].rowrank()))"
   ]
  },
  {
   "cell_type": "code",
   "execution_count": 52,
   "id": "9eb7d989-3dcf-45a8-8296-bd9281154a39",
   "metadata": {},
   "outputs": [
    {
     "name": "stdout",
     "output_type": "stream",
     "text": [
      "-------- start of print ---------\n",
      "Tensor name: \n",
      "is_diag    : False\n",
      "contiguous : True\n",
      "\n",
      "Total elem: 3\n",
      "type  : Double (Float64)\n",
      "cytnx device: CPU\n",
      "Shape : (3)\n",
      "[2.00000e+00 6.00000e+00 1.00000e+01 ]\n",
      "\n",
      "\n",
      "\n",
      "\n",
      "0\n",
      "-----------------------\n",
      "tensor Name : \n",
      "tensor Rank : 1\n",
      "block_form  : False\n",
      "is_diag     : False\n",
      "on device   : cytnx device: CPU\n",
      "         --------     \n",
      "        /        \\    \n",
      "        |      3 |____ 0\n",
      "        \\        /    \n",
      "         --------     \n"
     ]
    }
   ],
   "source": [
    "A[:,2].reshape_(3,1)\n",
    "print(A[:,2])\n",
    "print(A[:,2].rowrank())\n",
    "A[:,2].print_diagram()"
   ]
  },
  {
   "cell_type": "code",
   "execution_count": 53,
   "id": "8023b394-70d8-4ce8-b6f5-6403d37c42f9",
   "metadata": {},
   "outputs": [
    {
     "name": "stdout",
     "output_type": "stream",
     "text": [
      "-------- start of print ---------\n",
      "Tensor name: \n",
      "is_diag    : False\n",
      "contiguous : True\n",
      "\n",
      "Total elem: 3\n",
      "type  : Double (Float64)\n",
      "cytnx device: CPU\n",
      "Shape : (3)\n",
      "[2.00000e+00 6.00000e+00 1.00000e+01 ]\n",
      "\n",
      "\n",
      "\n",
      "\n",
      "0\n",
      "-----------------------\n",
      "tensor Name : \n",
      "tensor Rank : 1\n",
      "block_form  : False\n",
      "is_diag     : False\n",
      "on device   : cytnx device: CPU\n",
      "         --------     \n",
      "        /        \\    \n",
      "        |      3 |____ 0\n",
      "        \\        /    \n",
      "         --------     \n"
     ]
    }
   ],
   "source": [
    "A[:,2].reshape_(1,3)\n",
    "print(A[:,2])\n",
    "print(A[:,2].rowrank())\n",
    "A[:,2].print_diagram()"
   ]
  },
  {
   "cell_type": "code",
   "execution_count": 55,
   "id": "940f7c47-b80d-4db1-9cfc-da5f8392df61",
   "metadata": {},
   "outputs": [
    {
     "data": {
      "text/plain": [
       "['Conj',\n",
       " 'Conj_',\n",
       " 'Dagger',\n",
       " 'Dagger_',\n",
       " 'Init',\n",
       " 'Load',\n",
       " 'Nblocks',\n",
       " 'Norm',\n",
       " 'Pow',\n",
       " 'Pow_',\n",
       " 'Save',\n",
       " 'Trace',\n",
       " 'Trace_',\n",
       " 'Transpose',\n",
       " 'Transpose_',\n",
       " '__add__',\n",
       " '__class__',\n",
       " '__copy__',\n",
       " '__deepcopy__',\n",
       " '__delattr__',\n",
       " '__dir__',\n",
       " '__doc__',\n",
       " '__eq__',\n",
       " '__floordiv__',\n",
       " '__format__',\n",
       " '__ge__',\n",
       " '__getattribute__',\n",
       " '__getitem__',\n",
       " '__gt__',\n",
       " '__hash__',\n",
       " '__iadd__',\n",
       " '__ifloordiv__',\n",
       " '__imul__',\n",
       " '__init__',\n",
       " '__init_subclass__',\n",
       " '__ipow__',\n",
       " '__isub__',\n",
       " '__itruediv__',\n",
       " '__le__',\n",
       " '__lt__',\n",
       " '__module__',\n",
       " '__mul__',\n",
       " '__ne__',\n",
       " '__neg__',\n",
       " '__new__',\n",
       " '__pos__',\n",
       " '__pow__',\n",
       " '__radd__',\n",
       " '__reduce__',\n",
       " '__reduce_ex__',\n",
       " '__repr__',\n",
       " '__rfloordiv__',\n",
       " '__rmul__',\n",
       " '__rsub__',\n",
       " '__rtruediv__',\n",
       " '__setattr__',\n",
       " '__setitem__',\n",
       " '__sizeof__',\n",
       " '__str__',\n",
       " '__sub__',\n",
       " '__subclasshook__',\n",
       " '__truediv__',\n",
       " '_at',\n",
       " '_relabel_',\n",
       " '_relabels_',\n",
       " '_set_label',\n",
       " 'arange',\n",
       " 'astype',\n",
       " 'astype_different_type',\n",
       " 'at',\n",
       " 'bond',\n",
       " 'bond_',\n",
       " 'bonds',\n",
       " 'cConj_',\n",
       " 'cDagger_',\n",
       " 'cPow_',\n",
       " 'cTrace_',\n",
       " 'cTranspose_',\n",
       " 'c__ipow__',\n",
       " 'c_at',\n",
       " 'c_relabel_',\n",
       " 'c_relabels_',\n",
       " 'c_set_label',\n",
       " 'c_set_labels',\n",
       " 'c_set_name',\n",
       " 'c_set_rowrank_',\n",
       " 'cfrom',\n",
       " 'clone',\n",
       " 'cnormalize_',\n",
       " 'combineBonds',\n",
       " 'contiguous',\n",
       " 'contiguous_',\n",
       " 'contract',\n",
       " 'convert_from',\n",
       " 'ctag',\n",
       " 'ctruncate_',\n",
       " 'device',\n",
       " 'device_str',\n",
       " 'dtype',\n",
       " 'dtype_str',\n",
       " 'elem_exists',\n",
       " 'eye',\n",
       " 'getTotalQnums',\n",
       " 'get_block',\n",
       " 'get_block_',\n",
       " 'get_blocks',\n",
       " 'get_blocks_',\n",
       " 'get_blocks_qnums',\n",
       " 'get_elem',\n",
       " 'get_index',\n",
       " 'get_qindices',\n",
       " 'group_basis',\n",
       " 'group_basis_',\n",
       " 'identity',\n",
       " 'is_blockform',\n",
       " 'is_braket_form',\n",
       " 'is_contiguous',\n",
       " 'is_diag',\n",
       " 'is_tag',\n",
       " 'item',\n",
       " 'labels',\n",
       " 'linspace',\n",
       " 'make_contiguous',\n",
       " 'name',\n",
       " 'normal',\n",
       " 'normal_',\n",
       " 'normalize',\n",
       " 'normalize_',\n",
       " 'ones',\n",
       " 'permute',\n",
       " 'permute_',\n",
       " 'print_block',\n",
       " 'print_blocks',\n",
       " 'print_diagram',\n",
       " 'put_block',\n",
       " 'put_block_',\n",
       " 'rank',\n",
       " 'relabel',\n",
       " 'relabel_',\n",
       " 'relabels',\n",
       " 'relabels_',\n",
       " 'reshape',\n",
       " 'reshape_',\n",
       " 'rowrank',\n",
       " 'same_data',\n",
       " 'set_elem',\n",
       " 'set_label',\n",
       " 'set_labels',\n",
       " 'set_name',\n",
       " 'set_rowrank',\n",
       " 'set_rowrank_',\n",
       " 'shape',\n",
       " 'syms',\n",
       " 'tag',\n",
       " 'to',\n",
       " 'to_',\n",
       " 'to_dense',\n",
       " 'to_dense_',\n",
       " 'to_different_device',\n",
       " 'truncate',\n",
       " 'truncate_',\n",
       " 'uniform',\n",
       " 'uniform_',\n",
       " 'uten_type',\n",
       " 'uten_type_str',\n",
       " 'zeros']"
      ]
     },
     "execution_count": 55,
     "metadata": {},
     "output_type": "execute_result"
    }
   ],
   "source": [
    "dir(A)"
   ]
  },
  {
   "cell_type": "code",
   "execution_count": 40,
   "id": "c39a8e1c-1bc0-48a2-9dc2-86a16ad586f1",
   "metadata": {},
   "outputs": [
    {
     "name": "stdout",
     "output_type": "stream",
     "text": [
      "-----------------------\n",
      "tensor Name : \n",
      "tensor Rank : 3\n",
      "block_form  : False\n",
      "is_diag     : False\n",
      "on device   : cytnx device: CPU\n",
      "          ---------     \n",
      "         /         \\    \n",
      "   0 ____| 2     4 |____ 2\n",
      "         |         |    \n",
      "   1 ____| 3       |        \n",
      "         \\         /    \n",
      "          ---------     \n",
      "2\n",
      "-----------------------\n",
      "tensor Name : \n",
      "tensor Rank : 3\n",
      "block_form  : False\n",
      "is_diag     : False\n",
      "on device   : cytnx device: CPU\n",
      "         --------     \n",
      "        /        \\    \n",
      "        |      2 |____ 0\n",
      "        |        |    \n",
      "        |      3 |____ 1\n",
      "        |        |    \n",
      "        |      2 |____ 2\n",
      "        \\        /    \n",
      "         --------     \n",
      "0\n"
     ]
    }
   ],
   "source": [
    "UT = cytnx.UniTensor.ones([2,3,4]).set_rowrank(2)\n",
    "UT.print_diagram()\n",
    "print(UT.rowrank())\n",
    "UT[:,:,2:4].print_diagram()\n",
    "print(UT[1,:,:].rowrank())"
   ]
  },
  {
   "cell_type": "code",
   "execution_count": 42,
   "id": "20369e1c-0582-4680-8009-d8849ca97468",
   "metadata": {},
   "outputs": [
    {
     "data": {
      "text/plain": [
       "3"
      ]
     },
     "execution_count": 42,
     "metadata": {},
     "output_type": "execute_result"
    }
   ],
   "source": [
    "UT.rank()"
   ]
  },
  {
   "cell_type": "code",
   "execution_count": 14,
   "id": "15417df8-e9e9-46d1-afad-1a97adfc17de",
   "metadata": {},
   "outputs": [
    {
     "name": "stdout",
     "output_type": "stream",
     "text": [
      "1\n",
      "-----------------------\n",
      "tensor Name : T\n",
      "tensor Rank : 2\n",
      "block_form  : False\n",
      "is_diag     : False\n",
      "on device   : cytnx device: CPU\n",
      "          ---------     \n",
      "         /         \\    \n",
      "   0 ____| 3     4 |____ 1\n",
      "         \\         /    \n",
      "          ---------     \n",
      "-------- start of print ---------\n",
      "Tensor name: T\n",
      "is_diag    : False\n",
      "contiguous : True\n",
      "\n",
      "Total elem: 12\n",
      "type  : Double (Float64)\n",
      "cytnx device: CPU\n",
      "Shape : (3,4)\n",
      "[[1.00000e+00 1.00000e+00 1.00000e+00 1.00000e+00 ]\n",
      " [1.00000e+00 1.00000e+00 1.00000e+00 1.00000e+00 ]\n",
      " [1.00000e+00 1.00000e+00 1.00000e+00 1.00000e+00 ]]\n",
      "\n",
      "\n",
      "\n",
      "\n"
     ]
    },
    {
     "ename": "RuntimeError",
     "evalue": "\n# Cytnx error occur at cytnx::Scalar::Sproxy cytnx::Tensor_impl::at(const std::vector<long long unsigned int>&)\n# error: The input index does not match Tensor's rank.\n# file : /Users/pcchen/github/Cytnx/include/backend/Tensor_impl.hpp (164)",
     "output_type": "error",
     "traceback": [
      "\u001b[0;31m---------------------------------------------------------------------------\u001b[0m",
      "\u001b[0;31mRuntimeError\u001b[0m                              Traceback (most recent call last)",
      "Cell \u001b[0;32mIn [14], line 5\u001b[0m\n\u001b[1;32m      3\u001b[0m UT\u001b[38;5;241m.\u001b[39mprint_diagram()\n\u001b[1;32m      4\u001b[0m \u001b[38;5;28mprint\u001b[39m(UT)\n\u001b[0;32m----> 5\u001b[0m \u001b[38;5;28mprint\u001b[39m(\u001b[43mUT\u001b[49m\u001b[38;5;241;43m.\u001b[39;49m\u001b[43mat\u001b[49m\u001b[43m(\u001b[49m\u001b[43m[\u001b[49m\u001b[38;5;241;43m2\u001b[39;49m\u001b[43m]\u001b[49m\u001b[43m)\u001b[49m)\n\u001b[1;32m      6\u001b[0m \u001b[38;5;28mprint\u001b[39m(UT\u001b[38;5;241m.\u001b[39mat([\u001b[38;5;241m2\u001b[39m])\u001b[38;5;241m.\u001b[39mvalue)\n\u001b[1;32m      7\u001b[0m \u001b[38;5;28mprint\u001b[39m(UT[\u001b[38;5;241m2\u001b[39m])\n",
      "File \u001b[0;32m~/miniforge3/lib/python3.10/site-packages/cytnx-0.9.7-py3.10-macosx-11.0-arm64.egg/cytnx/utils.py:111\u001b[0m, in \u001b[0;36madd_ovld_method.<locals>.decorator.<locals>.wrapper\u001b[0;34m(self, *args, **kwargs)\u001b[0m\n\u001b[1;32m    108\u001b[0m obj \u001b[38;5;241m=\u001b[39m mem[\u001b[38;5;124m\"\u001b[39m\u001b[38;5;124m_\u001b[39m\u001b[38;5;124m\"\u001b[39m \u001b[38;5;241m+\u001b[39m func\u001b[38;5;241m.\u001b[39m\u001b[38;5;18m__name__\u001b[39m]\n\u001b[1;32m    110\u001b[0m \u001b[38;5;66;03m#passing class instance:\u001b[39;00m\n\u001b[0;32m--> 111\u001b[0m \u001b[38;5;28;01mreturn\u001b[39;00m \u001b[43mobj\u001b[49m\u001b[43m(\u001b[49m\u001b[38;5;28;43mself\u001b[39;49m\u001b[43m,\u001b[49m\u001b[38;5;241;43m*\u001b[39;49m\u001b[43margs\u001b[49m\u001b[43m,\u001b[49m\u001b[38;5;241;43m*\u001b[39;49m\u001b[38;5;241;43m*\u001b[39;49m\u001b[43mkwargs\u001b[49m\u001b[43m)\u001b[49m\n",
      "File \u001b[0;32m~/miniforge3/lib/python3.10/site-packages/cytnx-0.9.7-py3.10-macosx-11.0-arm64.egg/cytnx/utils.py:27\u001b[0m, in \u001b[0;36mOverload_methods.__call__\u001b[0;34m(self, *args, **kwargs)\u001b[0m\n\u001b[1;32m     20\u001b[0m arguments \u001b[38;5;241m=\u001b[39m sig\u001b[38;5;241m.\u001b[39mbind(\u001b[38;5;241m*\u001b[39margs, \u001b[38;5;241m*\u001b[39m\u001b[38;5;241m*\u001b[39mkwargs)\u001b[38;5;241m.\u001b[39marguments\n\u001b[1;32m     22\u001b[0m \u001b[38;5;28;01mif\u001b[39;00m \u001b[38;5;28mall\u001b[39m(\n\u001b[1;32m     23\u001b[0m     param\u001b[38;5;241m.\u001b[39mannotation \u001b[38;5;129;01mis\u001b[39;00m param\u001b[38;5;241m.\u001b[39mempty \u001b[38;5;129;01mor\u001b[39;00m is_bearable(arguments[name],param\u001b[38;5;241m.\u001b[39mannotation)\n\u001b[1;32m     24\u001b[0m     \u001b[38;5;28;01mfor\u001b[39;00m name, param \u001b[38;5;129;01min\u001b[39;00m sig\u001b[38;5;241m.\u001b[39mparameters\u001b[38;5;241m.\u001b[39mitems()\n\u001b[1;32m     25\u001b[0m     \u001b[38;5;28;01mif\u001b[39;00m name \u001b[38;5;129;01min\u001b[39;00m arguments\n\u001b[1;32m     26\u001b[0m ):\n\u001b[0;32m---> 27\u001b[0m     \u001b[38;5;28;01mreturn\u001b[39;00m \u001b[38;5;28;43mself\u001b[39;49m\u001b[38;5;241;43m.\u001b[39;49m\u001b[43mreged_sigs\u001b[49m\u001b[43m[\u001b[49m\u001b[43msig\u001b[49m\u001b[43m]\u001b[49m\u001b[43m(\u001b[49m\u001b[38;5;241;43m*\u001b[39;49m\u001b[43margs\u001b[49m\u001b[43m,\u001b[49m\u001b[38;5;241;43m*\u001b[39;49m\u001b[38;5;241;43m*\u001b[39;49m\u001b[43mkwargs\u001b[49m\u001b[43m)\u001b[49m\n\u001b[1;32m     28\u001b[0m \u001b[38;5;28;01melse\u001b[39;00m:\n\u001b[1;32m     29\u001b[0m     \u001b[38;5;28;01mraise\u001b[39;00m \u001b[38;5;167;01mTypeError\u001b[39;00m\n",
      "File \u001b[0;32m~/miniforge3/lib/python3.10/site-packages/cytnx-0.9.7-py3.10-macosx-11.0-arm64.egg/cytnx/UniTensor_conti.py:235\u001b[0m, in \u001b[0;36mat\u001b[0;34m(self, locator)\u001b[0m\n\u001b[1;32m    233\u001b[0m \u001b[38;5;129m@add_ovld_method\u001b[39m(UniTensor)\n\u001b[1;32m    234\u001b[0m \u001b[38;5;28;01mdef\u001b[39;00m \u001b[38;5;21mat\u001b[39m(\u001b[38;5;28mself\u001b[39m, locator:List[\u001b[38;5;28mint\u001b[39m]):\n\u001b[0;32m--> 235\u001b[0m     tmp_hclass \u001b[38;5;241m=\u001b[39m \u001b[38;5;28;43mself\u001b[39;49m\u001b[38;5;241;43m.\u001b[39;49m\u001b[43mc_at\u001b[49m\u001b[43m(\u001b[49m\u001b[43mlocator\u001b[49m\u001b[43m)\u001b[49m;\n\u001b[1;32m    236\u001b[0m     \u001b[38;5;28;01mreturn\u001b[39;00m Hclass(tmp_hclass)\n",
      "\u001b[0;31mRuntimeError\u001b[0m: \n# Cytnx error occur at cytnx::Scalar::Sproxy cytnx::Tensor_impl::at(const std::vector<long long unsigned int>&)\n# error: The input index does not match Tensor's rank.\n# file : /Users/pcchen/github/Cytnx/include/backend/Tensor_impl.hpp (164)"
     ]
    }
   ],
   "source": [
    "UT = cytnx.UniTensor.ones([3,4]).set_name('T')\n",
    "print(UT.rowrank())\n",
    "UT.print_diagram()\n",
    "print(UT)\n",
    "print(UT.at([2]))\n",
    "print(UT.at([2]).value)\n",
    "print(UT[2])\n",
    "print(UT[2].item())"
   ]
  },
  {
   "cell_type": "code",
   "execution_count": 42,
   "id": "cc800a60-1324-4c8f-b158-21adb0a4bbb0",
   "metadata": {},
   "outputs": [
    {
     "ename": "RuntimeError",
     "evalue": "\n# Cytnx error occur at T& cytnx::Tensor::item() [with T = double]\n# error: [ERROR][Tensor.item<T>]item can only be called from a Tensor with only one element\n\n# file : /Users/pcchen/github/Cytnx/include/Tensor.hpp (915)",
     "output_type": "error",
     "traceback": [
      "\u001b[0;31m---------------------------------------------------------------------------\u001b[0m",
      "\u001b[0;31mRuntimeError\u001b[0m                              Traceback (most recent call last)",
      "Cell \u001b[0;32mIn [42], line 1\u001b[0m\n\u001b[0;32m----> 1\u001b[0m \u001b[43mUT\u001b[49m\u001b[38;5;241;43m.\u001b[39;49m\u001b[43mitem\u001b[49m\u001b[43m(\u001b[49m\u001b[43m)\u001b[49m\n",
      "\u001b[0;31mRuntimeError\u001b[0m: \n# Cytnx error occur at T& cytnx::Tensor::item() [with T = double]\n# error: [ERROR][Tensor.item<T>]item can only be called from a Tensor with only one element\n\n# file : /Users/pcchen/github/Cytnx/include/Tensor.hpp (915)"
     ]
    }
   ],
   "source": [
    "UT.item()"
   ]
  },
  {
   "cell_type": "code",
   "execution_count": 35,
   "id": "939a0ac0-3f76-45e0-bf4f-55c90adc8302",
   "metadata": {},
   "outputs": [
    {
     "data": {
      "text/plain": [
       "1.0"
      ]
     },
     "execution_count": 35,
     "metadata": {},
     "output_type": "execute_result"
    }
   ],
   "source": [
    "UT.at([2]).value"
   ]
  },
  {
   "cell_type": "code",
   "execution_count": 21,
   "id": "4bb9e37c-e723-467a-be1c-d67ed3acf181",
   "metadata": {},
   "outputs": [
    {
     "name": "stdout",
     "output_type": "stream",
     "text": [
      "-----------------------\n",
      "tensor Name : \n",
      "tensor Rank : 2\n",
      "block_form  : False\n",
      "is_diag     : False\n",
      "on device   : cytnx device: CPU\n",
      "          ---------     \n",
      "         /         \\    \n",
      "   0 ____| 1     2 |____ 1\n",
      "         \\         /    \n",
      "          ---------     \n",
      "-------- start of print ---------\n",
      "Tensor name: \n",
      "is_diag    : False\n",
      "contiguous : True\n",
      "\n",
      "Total elem: 2\n",
      "type  : Double (Float64)\n",
      "cytnx device: CPU\n",
      "Shape : (1,2)\n",
      "[[1.00000e+00 1.00000e+00 ]]\n",
      "\n",
      "\n",
      "\n",
      "\n",
      "-----------------------\n",
      "tensor Name : \n",
      "tensor Rank : 2\n",
      "block_form  : False\n",
      "is_diag     : False\n",
      "on device   : cytnx device: CPU\n",
      "          ---------     \n",
      "         /         \\    \n",
      "   0 ____| 2     1 |____ 1\n",
      "         \\         /    \n",
      "          ---------     \n",
      "-------- start of print ---------\n",
      "Tensor name: \n",
      "is_diag    : False\n",
      "contiguous : True\n",
      "\n",
      "Total elem: 2\n",
      "type  : Double (Float64)\n",
      "cytnx device: CPU\n",
      "Shape : (2,1)\n",
      "[[1.00000e+00 ]\n",
      " [1.00000e+00 ]]\n",
      "\n",
      "\n",
      "\n",
      "\n"
     ]
    }
   ],
   "source": [
    "UT = cytnx.UniTensor.ones([1,2])\n",
    "UT.print_diagram()\n",
    "print(UT)\n",
    "\n",
    "UT = cytnx.UniTensor.ones([2,1])\n",
    "UT.print_diagram()\n",
    "print(UT)"
   ]
  },
  {
   "cell_type": "code",
   "execution_count": 10,
   "id": "4136af92-b500-400f-b846-c0e36b56c2f3",
   "metadata": {},
   "outputs": [
    {
     "name": "stdout",
     "output_type": "stream",
     "text": [
      "-----------------------\n",
      "tensor Name : \n",
      "tensor Rank : 1\n",
      "block_form  : False\n",
      "is_diag     : False\n",
      "on device   : cytnx device: CPU\n",
      "          --------     \n",
      "         /        \\    \n",
      "   0 ____| 2      |        \n",
      "         \\        /    \n",
      "          --------     \n",
      "-------- start of print ---------\n",
      "Tensor name: \n",
      "is_diag    : False\n",
      "contiguous : True\n",
      "\n",
      "Total elem: 2\n",
      "type  : Double (Float64)\n",
      "cytnx device: CPU\n",
      "Shape : (2)\n",
      "[1.00000e+00 1.00000e+00 ]\n",
      "\n",
      "\n",
      "\n",
      "\n"
     ]
    }
   ],
   "source": [
    "UT = cytnx.UniTensor.ones([2]).set_rowrank(1)\n",
    "UT.print_diagram()\n",
    "print(UT)"
   ]
  },
  {
   "cell_type": "code",
   "execution_count": 11,
   "id": "a11acda0-7acb-4d3b-8500-e44fda059565",
   "metadata": {},
   "outputs": [
    {
     "name": "stdout",
     "output_type": "stream",
     "text": [
      "-----------------------\n",
      "tensor Name : \n",
      "tensor Rank : 1\n",
      "block_form  : False\n",
      "is_diag     : False\n",
      "on device   : cytnx device: CPU\n",
      "         --------     \n",
      "        /        \\    \n",
      "        |      2 |____ 0\n",
      "        \\        /    \n",
      "         --------     \n",
      "-------- start of print ---------\n",
      "Tensor name: \n",
      "is_diag    : False\n",
      "contiguous : True\n",
      "\n",
      "Total elem: 2\n",
      "type  : Double (Float64)\n",
      "cytnx device: CPU\n",
      "Shape : (2)\n",
      "[1.00000e+00 1.00000e+00 ]\n",
      "\n",
      "\n",
      "\n",
      "\n"
     ]
    }
   ],
   "source": [
    "UT = cytnx.UniTensor.ones([2]).set_rowrank(0)\n",
    "UT.print_diagram()\n",
    "print(UT)"
   ]
  },
  {
   "cell_type": "code",
   "execution_count": 16,
   "id": "36aaa570-846e-4db6-94c7-7a29d6f36cba",
   "metadata": {},
   "outputs": [
    {
     "name": "stdout",
     "output_type": "stream",
     "text": [
      "-----------------------\n",
      "tensor Name : \n",
      "tensor Rank : 2\n",
      "block_form  : False\n",
      "is_diag     : False\n",
      "on device   : cytnx device: CPU\n",
      "         --------     \n",
      "        /        \\    \n",
      "        |      2 |____ 0\n",
      "        |        |    \n",
      "        |      2 |____ 1\n",
      "        \\        /    \n",
      "         --------     \n",
      "-------- start of print ---------\n",
      "Tensor name: \n",
      "is_diag    : False\n",
      "contiguous : True\n",
      "\n",
      "Total elem: 4\n",
      "type  : Double (Float64)\n",
      "cytnx device: CPU\n",
      "Shape : (2,2)\n",
      "[[1.00000e+00 1.00000e+00 ]\n",
      " [1.00000e+00 1.00000e+00 ]]\n",
      "\n",
      "\n",
      "\n",
      "\n"
     ]
    }
   ],
   "source": [
    "UT = cytnx.UniTensor.ones([2,2]).set_rowrank(0)\n",
    "UT.print_diagram()\n",
    "print(UT)"
   ]
  },
  {
   "cell_type": "code",
   "execution_count": 18,
   "id": "7cdabfb2-1832-49e4-a724-a2547cdab386",
   "metadata": {},
   "outputs": [
    {
     "name": "stdout",
     "output_type": "stream",
     "text": [
      "-----------------------\n",
      "tensor Name : \n",
      "tensor Rank : 3\n",
      "block_form  : False\n",
      "is_diag     : False\n",
      "on device   : cytnx device: CPU\n",
      "          ---------     \n",
      "         /         \\    \n",
      "   0 ____| 2     2 |____ 1\n",
      "         |         |    \n",
      "         |       2 |____ 2\n",
      "         \\         /    \n",
      "          ---------     \n",
      "-------- start of print ---------\n",
      "Tensor name: \n",
      "is_diag    : False\n",
      "contiguous : True\n",
      "\n",
      "Total elem: 8\n",
      "type  : Double (Float64)\n",
      "cytnx device: CPU\n",
      "Shape : (2,2,2)\n",
      "[[[1.00000e+00 1.00000e+00 ]\n",
      "  [1.00000e+00 1.00000e+00 ]]\n",
      " [[1.00000e+00 1.00000e+00 ]\n",
      "  [1.00000e+00 1.00000e+00 ]]]\n",
      "\n",
      "\n",
      "\n",
      "\n"
     ]
    }
   ],
   "source": [
    "UT = cytnx.UniTensor.ones([2,2,2])\n",
    "UT.print_diagram()\n",
    "print(UT)"
   ]
  },
  {
   "cell_type": "code",
   "execution_count": null,
   "id": "38a5565e-8f8e-435e-ae7e-b3c85b4e885d",
   "metadata": {},
   "outputs": [],
   "source": []
  },
  {
   "cell_type": "code",
   "execution_count": null,
   "id": "62b5f741-dd1e-4aae-af0c-d2d7cab62eb3",
   "metadata": {},
   "outputs": [],
   "source": []
  },
  {
   "cell_type": "code",
   "execution_count": 2,
   "id": "57974111-81ce-4b69-b9d9-2f721d114427",
   "metadata": {},
   "outputs": [
    {
     "data": {
      "text/plain": [
       "([1, 2], 2)"
      ]
     },
     "execution_count": 2,
     "metadata": {},
     "output_type": "execute_result"
    }
   ],
   "source": [
    "cytnx.Qs(1,2) >> 2"
   ]
  },
  {
   "cell_type": "code",
   "execution_count": 9,
   "id": "d916d5ce-4f84-430f-8fac-84b4608ffd2f",
   "metadata": {},
   "outputs": [
    {
     "name": "stdout",
     "output_type": "stream",
     "text": [
      "Help on _cQs in module cytnx.cytnx object:\n",
      "\n",
      "class _cQs(pybind11_builtins.pybind11_object)\n",
      " |  Method resolution order:\n",
      " |      _cQs\n",
      " |      pybind11_builtins.pybind11_object\n",
      " |      builtins.object\n",
      " |  \n",
      " |  Methods defined here:\n",
      " |  \n",
      " |  __init__(...)\n",
      " |      __init__(self: cytnx.cytnx._cQs, qin: List[int]) -> None\n",
      " |  \n",
      " |  __rshift__(...)\n",
      " |      __rshift__(self: cytnx.cytnx._cQs, dim: int) -> Tuple[List[int], int]\n",
      " |  \n",
      " |  ----------------------------------------------------------------------\n",
      " |  Static methods inherited from pybind11_builtins.pybind11_object:\n",
      " |  \n",
      " |  __new__(*args, **kwargs) from pybind11_builtins.pybind11_type\n",
      " |      Create and return a new object.  See help(type) for accurate signature.\n",
      "\n"
     ]
    }
   ],
   "source": [
    "help(cytnx.Qs())"
   ]
  },
  {
   "cell_type": "code",
   "execution_count": 23,
   "id": "9a867d75-0985-4d29-9fc1-54fd8dbf65c7",
   "metadata": {},
   "outputs": [],
   "source": [
    "a = cytnx.Symmetry.U1()\n",
    "b = cytnx.Symmetry.U1()\n",
    "c = cytnx.Symmetry.Zn(2)"
   ]
  },
  {
   "cell_type": "code",
   "execution_count": 3,
   "id": "409099be-4b71-4ce4-8111-8db7be28eee6",
   "metadata": {},
   "outputs": [
    {
     "name": "stdout",
     "output_type": "stream",
     "text": [
      "Dim = 4 |type: |IN (KET)>     \n",
      " U1::   +0  +1\n",
      " U1::   +0  +1\n",
      "Deg>>    2   2\n",
      "\n"
     ]
    },
    {
     "data": {
      "text/plain": []
     },
     "execution_count": 3,
     "metadata": {},
     "output_type": "execute_result"
    }
   ],
   "source": [
    "b1 = cytnx.Bond(cytnx.BD_IN, [[0,0],[1,1]], [2,2], [cytnx.Symmetry.U1(),cytnx.Symmetry.U1()])\n",
    "b1"
   ]
  },
  {
   "cell_type": "code",
   "execution_count": 55,
   "id": "611ab912-65e5-4f8f-add6-ec76d5c9f656",
   "metadata": {},
   "outputs": [
    {
     "name": "stdout",
     "output_type": "stream",
     "text": [
      "Dim = 4 |type: |IN (KET)>     \n",
      " U1::   +0  +1\n",
      "Deg>>    2   2\n",
      "\n"
     ]
    },
    {
     "data": {
      "text/plain": []
     },
     "execution_count": 55,
     "metadata": {},
     "output_type": "execute_result"
    }
   ],
   "source": [
    "b2 = cytnx.Bond(cytnx.BD_IN, [([0],2),([1],2)], [cytnx.Symmetry.U1()])\n",
    "b2"
   ]
  },
  {
   "cell_type": "code",
   "execution_count": 56,
   "id": "61485c90-b3fd-40a6-8a72-966e697c00f9",
   "metadata": {},
   "outputs": [
    {
     "data": {
      "text/plain": [
       "True"
      ]
     },
     "execution_count": 56,
     "metadata": {},
     "output_type": "execute_result"
    }
   ],
   "source": [
    "b1 == b2"
   ]
  },
  {
   "cell_type": "code",
   "execution_count": 57,
   "id": "70803999-0008-4491-8692-4bf75ac085fe",
   "metadata": {},
   "outputs": [
    {
     "data": {
      "text/plain": [
       "False"
      ]
     },
     "execution_count": 57,
     "metadata": {},
     "output_type": "execute_result"
    }
   ],
   "source": [
    "b1 is b2"
   ]
  },
  {
   "cell_type": "code",
   "execution_count": 45,
   "id": "2592a33a-9a11-498d-942c-5301097060a8",
   "metadata": {},
   "outputs": [
    {
     "name": "stdout",
     "output_type": "stream",
     "text": [
      "--------------------\n",
      "[Symmetry]\n",
      "type : Abelian, U1\n",
      "combine rule : Q1 + Q2\n",
      "reverse rule : Q*(-1) \n",
      "--------------------\n",
      "\n",
      "\n"
     ]
    }
   ],
   "source": [
    "U1 = cytnx.Symmetry.U1()\n",
    "print(U1)"
   ]
  },
  {
   "cell_type": "code",
   "execution_count": null,
   "id": "16d45c0a-e8bc-4b04-abea-d26cfc150827",
   "metadata": {},
   "outputs": [],
   "source": []
  },
  {
   "cell_type": "code",
   "execution_count": 48,
   "id": "4f2e4ad9-ca66-460f-a9ca-50dd2421da9d",
   "metadata": {},
   "outputs": [
    {
     "name": "stdout",
     "output_type": "stream",
     "text": [
      "--------------------\n",
      "[Symmetry]\n",
      "type : Abelian, Z(3)\n",
      "combine rule : (Q1 + Q2)%3\n",
      "reverse rule : Q*(-1) \n",
      "--------------------\n",
      "\n",
      "\n"
     ]
    }
   ],
   "source": [
    "Z3 = cytnx.Symmetry.Zn(3)\n",
    "print(Z3)"
   ]
  },
  {
   "cell_type": "markdown",
   "id": "2f1622ba-4a02-4ba8-89d9-7ba562e4e58c",
   "metadata": {},
   "source": [
    "# SciPost"
   ]
  },
  {
   "cell_type": "code",
   "execution_count": 6,
   "id": "efffa007-017a-4a53-b152-d2ec00f9e763",
   "metadata": {},
   "outputs": [
    {
     "name": "stdout",
     "output_type": "stream",
     "text": [
      "-----------------------\n",
      "tensor Name : \n",
      "tensor Rank : 3\n",
      "block_form  : False\n",
      "is_diag     : False\n",
      "on device   : cytnx device: CPU\n",
      "           ---------     \n",
      "          /         \\    \n",
      "   v1 ____| 8     2 |____ phy\n",
      "          |         |    \n",
      "          |       8 |____ v2我\n",
      "          \\         /    \n",
      "           ---------     \n"
     ]
    }
   ],
   "source": [
    "import cytnx\n",
    "\n",
    "# Create a Tensor initialized with ones; similar syntax as Numpy array\n",
    "T = cytnx.ones([8,2,8])\n",
    "# Create a UniTensor and set labels for the indices\n",
    "A = cytnx.UniTensor(T, labels=[\"v1\",\"phy\",\"v2我\"])\n",
    "A.print_diagram()"
   ]
  },
  {
   "cell_type": "code",
   "execution_count": null,
   "id": "b8d2ca57-2957-456c-83e6-e3e88dc2a061",
   "metadata": {},
   "outputs": [],
   "source": []
  },
  {
   "cell_type": "markdown",
   "id": "d980ecac-16a3-4a7e-9e7e-9bce79b6a8da",
   "metadata": {
    "jp-MarkdownHeadingCollapsed": true,
    "tags": []
   },
   "source": [
    "## 1. Objects behavior"
   ]
  },
  {
   "cell_type": "markdown",
   "id": "e9950275-5aad-4e89-bf79-febcfebd77a9",
   "metadata": {
    "tags": []
   },
   "source": [
    "### 1.1 Everything is reference¶"
   ]
  },
  {
   "cell_type": "code",
   "execution_count": 3,
   "id": "4acf0cef-cbee-4f00-a19e-911bd7b58ec4",
   "metadata": {},
   "outputs": [
    {
     "name": "stdout",
     "output_type": "stream",
     "text": [
      "True\n"
     ]
    }
   ],
   "source": [
    "import cytnx\n",
    "A = cytnx.Tensor([2,3])\n",
    "B = A\n",
    "\n",
    "print(B is A) # true"
   ]
  },
  {
   "cell_type": "markdown",
   "id": "c79db5ed-c6e9-4202-9f12-319eee97cc0d",
   "metadata": {
    "tags": []
   },
   "source": [
    "### 1.2 Clone"
   ]
  },
  {
   "cell_type": "code",
   "execution_count": 4,
   "id": "796aa554-63f5-4fa7-bad7-a2f27a22600c",
   "metadata": {},
   "outputs": [
    {
     "name": "stdout",
     "output_type": "stream",
     "text": [
      "True\n",
      "False\n"
     ]
    }
   ],
   "source": [
    "import cytnx\n",
    "A = cytnx.Tensor([2,3]);\n",
    "B = A;\n",
    "C = A.clone();\n",
    "\n",
    "print(B is A)\n",
    "print(C is A)"
   ]
  },
  {
   "cell_type": "markdown",
   "id": "854e8f6b-7a86-4ae6-80ee-02d0a58966e2",
   "metadata": {
    "jp-MarkdownHeadingCollapsed": true,
    "tags": []
   },
   "source": [
    "## 2. Device"
   ]
  },
  {
   "cell_type": "markdown",
   "id": "a9008681-35ba-4c6a-b082-cee141f05bbc",
   "metadata": {
    "tags": []
   },
   "source": [
    "### 2.1 Number of threads"
   ]
  },
  {
   "cell_type": "code",
   "execution_count": 5,
   "id": "31de0e30-1d84-4b26-993f-1ce1a19ca7e2",
   "metadata": {},
   "outputs": [
    {
     "name": "stdout",
     "output_type": "stream",
     "text": [
      "1\n"
     ]
    }
   ],
   "source": [
    "print(cytnx.Device.Ncpus)"
   ]
  },
  {
   "cell_type": "markdown",
   "id": "51bcbe1b-4cea-4690-87b5-8468a57c1c26",
   "metadata": {
    "tags": []
   },
   "source": [
    "### 2.2 Number of GPUs"
   ]
  },
  {
   "cell_type": "code",
   "execution_count": 6,
   "id": "90816f23-cbbd-423b-bbe1-9a44fa3b95ab",
   "metadata": {},
   "outputs": [
    {
     "name": "stdout",
     "output_type": "stream",
     "text": [
      "0\n"
     ]
    }
   ],
   "source": [
    "print(cytnx.Device.Ngpus)"
   ]
  },
  {
   "cell_type": "markdown",
   "id": "d5fcc652-dc77-4353-967c-7e3fbcfdad9d",
   "metadata": {
    "tags": []
   },
   "source": [
    "### 2.3 GPU status"
   ]
  },
  {
   "cell_type": "code",
   "execution_count": 7,
   "id": "ebb94258-13c9-4ac9-a825-1f5720f5f6ff",
   "metadata": {},
   "outputs": [
    {
     "name": "stdout",
     "output_type": "stream",
     "text": [
      "=== No CUDA support ===\n"
     ]
    }
   ],
   "source": [
    "cytnx.Device.Print_Property()"
   ]
  },
  {
   "cell_type": "markdown",
   "id": "e9333f74-4997-47fa-a890-adc5cf1cac45",
   "metadata": {
    "tags": []
   },
   "source": [
    "## 3. Tensor"
   ]
  },
  {
   "cell_type": "markdown",
   "id": "f2e952c1-549a-40e0-b8ee-4f51dfe2b1e1",
   "metadata": {},
   "source": [
    "### 3.1 Creating a Tensor"
   ]
  },
  {
   "cell_type": "code",
   "execution_count": 12,
   "id": "b7cc4c1d-74c1-4403-a728-c5ca6c34abcd",
   "metadata": {},
   "outputs": [],
   "source": [
    "A = cytnx.arange(10);     #rank-1 Tensor from [0,10) with step 1\n",
    "B = cytnx.arange(0,10,2); #rank-1 Tensor from [0,10) with step 2\n",
    "C = cytnx.ones([3,4,5]);  #Tensor of shape (3,4,5) with all elements set to one.\n",
    "D = cytnx.eye(3);         #Tensor of shape (3,3) with diagonal elements set to one, all other entries are zero."
   ]
  },
  {
   "cell_type": "code",
   "execution_count": 13,
   "id": "87dce9a5-9436-4d5c-88dd-97a24d982f84",
   "metadata": {},
   "outputs": [
    {
     "name": "stdout",
     "output_type": "stream",
     "text": [
      "\n",
      "Total elem: 10\n",
      "type  : Double (Float64)\n",
      "cytnx device: CPU\n",
      "Shape : (10)\n",
      "[0.00000e+00 1.00000e+00 2.00000e+00 3.00000e+00 4.00000e+00 5.00000e+00 6.00000e+00 7.00000e+00 8.00000e+00 9.00000e+00 ]\n",
      "\n",
      "\n",
      "\n",
      "\n",
      "Total elem: 5\n",
      "type  : Double (Float64)\n",
      "cytnx device: CPU\n",
      "Shape : (5)\n",
      "[0.00000e+00 2.00000e+00 4.00000e+00 6.00000e+00 8.00000e+00 ]\n",
      "\n",
      "\n",
      "\n",
      "\n",
      "Total elem: 60\n",
      "type  : Double (Float64)\n",
      "cytnx device: CPU\n",
      "Shape : (3,4,5)\n",
      "[[[1.00000e+00 1.00000e+00 1.00000e+00 1.00000e+00 1.00000e+00 ]\n",
      "  [1.00000e+00 1.00000e+00 1.00000e+00 1.00000e+00 1.00000e+00 ]\n",
      "  [1.00000e+00 1.00000e+00 1.00000e+00 1.00000e+00 1.00000e+00 ]\n",
      "  [1.00000e+00 1.00000e+00 1.00000e+00 1.00000e+00 1.00000e+00 ]]\n",
      " [[1.00000e+00 1.00000e+00 1.00000e+00 1.00000e+00 1.00000e+00 ]\n",
      "  [1.00000e+00 1.00000e+00 1.00000e+00 1.00000e+00 1.00000e+00 ]\n",
      "  [1.00000e+00 1.00000e+00 1.00000e+00 1.00000e+00 1.00000e+00 ]\n",
      "  [1.00000e+00 1.00000e+00 1.00000e+00 1.00000e+00 1.00000e+00 ]]\n",
      " [[1.00000e+00 1.00000e+00 1.00000e+00 1.00000e+00 1.00000e+00 ]\n",
      "  [1.00000e+00 1.00000e+00 1.00000e+00 1.00000e+00 1.00000e+00 ]\n",
      "  [1.00000e+00 1.00000e+00 1.00000e+00 1.00000e+00 1.00000e+00 ]\n",
      "  [1.00000e+00 1.00000e+00 1.00000e+00 1.00000e+00 1.00000e+00 ]]]\n",
      "\n",
      "\n",
      "\n",
      "\n",
      "Total elem: 9\n",
      "type  : Double (Float64)\n",
      "cytnx device: CPU\n",
      "Shape : (3,3)\n",
      "[[1.00000e+00 0.00000e+00 0.00000e+00 ]\n",
      " [0.00000e+00 1.00000e+00 0.00000e+00 ]\n",
      " [0.00000e+00 0.00000e+00 1.00000e+00 ]]\n",
      "\n",
      "\n",
      "\n"
     ]
    }
   ],
   "source": [
    "print(A)\n",
    "print(B)\n",
    "print(C)\n",
    "print(D)"
   ]
  },
  {
   "cell_type": "markdown",
   "id": "b202c744-d536-4474-b6fa-fec24b7a7d15",
   "metadata": {},
   "source": [
    "## 3.2. Manipulating Tensors¶"
   ]
  },
  {
   "cell_type": "markdown",
   "id": "4c6c57ee-87da-486c-9f01-63e2051a2e7b",
   "metadata": {},
   "source": [
    "### 3.2.1. reshape"
   ]
  },
  {
   "cell_type": "code",
   "execution_count": 14,
   "id": "fefb072a-5dff-4d16-8669-8a06c2fa4f4b",
   "metadata": {},
   "outputs": [
    {
     "name": "stdout",
     "output_type": "stream",
     "text": [
      "\n",
      "Total elem: 24\n",
      "type  : Double (Float64)\n",
      "cytnx device: CPU\n",
      "Shape : (24)\n",
      "[0.00000e+00 1.00000e+00 2.00000e+00 3.00000e+00 4.00000e+00 5.00000e+00 6.00000e+00 7.00000e+00 8.00000e+00 9.00000e+00 1.00000e+01 1.10000e+01 1.20000e+01 1.30000e+01 1.40000e+01 1.50000e+01 1.60000e+01 1.70000e+01 1.80000e+01 1.90000e+01 2.00000e+01 2.10000e+01 2.20000e+01 2.30000e+01 ]\n",
      "\n",
      "\n",
      "\n",
      "\n",
      "Total elem: 24\n",
      "type  : Double (Float64)\n",
      "cytnx device: CPU\n",
      "Shape : (2,3,4)\n",
      "[[[0.00000e+00 1.00000e+00 2.00000e+00 3.00000e+00 ]\n",
      "  [4.00000e+00 5.00000e+00 6.00000e+00 7.00000e+00 ]\n",
      "  [8.00000e+00 9.00000e+00 1.00000e+01 1.10000e+01 ]]\n",
      " [[1.20000e+01 1.30000e+01 1.40000e+01 1.50000e+01 ]\n",
      "  [1.60000e+01 1.70000e+01 1.80000e+01 1.90000e+01 ]\n",
      "  [2.00000e+01 2.10000e+01 2.20000e+01 2.30000e+01 ]]]\n",
      "\n",
      "\n",
      "\n"
     ]
    }
   ],
   "source": [
    "A = cytnx.arange(24)\n",
    "B = A.reshape(2,3,4)\n",
    "print(A)\n",
    "print(B)"
   ]
  },
  {
   "cell_type": "markdown",
   "id": "61c7f7ed-a75c-4b8d-a9d3-59b488487cb9",
   "metadata": {},
   "source": [
    "## 7. UniTensor"
   ]
  },
  {
   "cell_type": "markdown",
   "id": "1b4223e7-6c24-4c3c-a3ff-cc574664fb9a",
   "metadata": {},
   "source": [
    "## 7.1. Print and display"
   ]
  },
  {
   "cell_type": "code",
   "execution_count": 25,
   "id": "698c7b07-54d5-4c04-9479-eb9cead51d09",
   "metadata": {},
   "outputs": [],
   "source": [
    "uT = cytnx.UniTensor(cytnx.ones([2,3,4]), name=\"untagged tensor\", labels=[\"a\",\"b\",\"c\"])\n",
    "bond_d = cytnx.Bond(cytnx.BD_IN, [cytnx.Qs(1)>>1, cytnx.Qs(-1)>>1],[cytnx.Symmetry.U1()])\n",
    "bond_e = cytnx.Bond(cytnx.BD_IN, [cytnx.Qs(1)>>1, cytnx.Qs(-1)>>1],[cytnx.Symmetry.U1()])\n",
    "bond_f = cytnx.Bond(cytnx.BD_OUT, [cytnx.Qs(2)>>1, cytnx.Qs(0)>>2, cytnx.Qs(-2)>>1],[cytnx.Symmetry.U1()])\n",
    "bond_g = cytnx.Bond(2,cytnx.BD_OUT)\n",
    "bond_h = cytnx.Bond(2,cytnx.BD_IN)\n",
    "Tsymm = cytnx.UniTensor([bond_d, bond_e, bond_f], name=\"symm. tensor\", labels=[\"d\",\"e\",\"f\"])\n",
    "Tdiag= cytnx.UniTensor([bond_g, bond_h], is_diag=True, name=\"diag tensor\", labels=[\"g\",\"h\"])"
   ]
  },
  {
   "cell_type": "code",
   "execution_count": 23,
   "id": "dfa29b53-6182-4619-8e44-2b424c65acd8",
   "metadata": {},
   "outputs": [
    {
     "name": "stdout",
     "output_type": "stream",
     "text": [
      "-------- start of print ---------\n",
      "Tensor name: untagged tensor\n",
      "is_diag    : False\n",
      "contiguous : True\n",
      "\n",
      "Total elem: 24\n",
      "type  : Double (Float64)\n",
      "cytnx device: CPU\n",
      "Shape : (2,3,4)\n",
      "[[[1.00000e+00 1.00000e+00 1.00000e+00 1.00000e+00 ]\n",
      "  [1.00000e+00 1.00000e+00 1.00000e+00 1.00000e+00 ]\n",
      "  [1.00000e+00 1.00000e+00 1.00000e+00 1.00000e+00 ]]\n",
      " [[1.00000e+00 1.00000e+00 1.00000e+00 1.00000e+00 ]\n",
      "  [1.00000e+00 1.00000e+00 1.00000e+00 1.00000e+00 ]\n",
      "  [1.00000e+00 1.00000e+00 1.00000e+00 1.00000e+00 ]]]\n",
      "\n",
      "\n",
      "\n",
      "\n",
      "-----------------------\n",
      "tensor Name : untagged tensor\n",
      "tensor Rank : 3\n",
      "block_form  : False\n",
      "is_diag     : False\n",
      "on device   : cytnx device: CPU\n",
      "          ---------     \n",
      "         /         \\    \n",
      "   a ____| 2     3 |____ b\n",
      "         |         |    \n",
      "         |       4 |____ c\n",
      "         \\         /    \n",
      "          ---------     \n"
     ]
    }
   ],
   "source": [
    "print(uT)\n",
    "uT.print_diagram()"
   ]
  },
  {
   "cell_type": "code",
   "execution_count": 12,
   "id": "28caa4c6-9ebe-4b36-9820-b770dbe4eaa4",
   "metadata": {},
   "outputs": [
    {
     "name": "stdout",
     "output_type": "stream",
     "text": [
      "-----------------------\n",
      "tensor Name : untagged tensor\n",
      "tensor Rank : 3\n",
      "block_form  : False\n",
      "is_diag     : False\n",
      "on device   : cytnx device: CPU\n",
      "          ---------     \n",
      "         /         \\    \n",
      "   0 ____| 2     3 |____ 1\n",
      "         |         |    \n",
      "         |       4 |____ 2\n",
      "         \\         /    \n",
      "          ---------     \n"
     ]
    }
   ],
   "source": [
    "uT.relabels_([\"a\",\"b\",\"c\"])\n",
    "uT.print_diagram()"
   ]
  },
  {
   "cell_type": "code",
   "execution_count": 14,
   "id": "179d8541-e892-46ec-9d63-1e41ab3adc6f",
   "metadata": {},
   "outputs": [
    {
     "name": "stdout",
     "output_type": "stream",
     "text": [
      "-----------------------\n",
      "tensor Name : untagged tensor\n",
      "tensor Rank : 3\n",
      "block_form  : False\n",
      "is_diag     : False\n",
      "on device   : cytnx device: CPU\n",
      "          ---------     \n",
      "         /         \\    \n",
      "   a ____| 2     3 |____ b\n",
      "         |         |    \n",
      "         |       4 |____ c\n",
      "         \\         /    \n",
      "          ---------     \n"
     ]
    }
   ],
   "source": [
    "xT=uT.relabels([\"a\",\"b\",\"c\"])\n",
    "xT.print_diagram()"
   ]
  },
  {
   "cell_type": "code",
   "execution_count": 26,
   "id": "c0bfd5c6-82f2-43a0-b8ac-284884403d13",
   "metadata": {},
   "outputs": [
    {
     "name": "stdout",
     "output_type": "stream",
     "text": [
      "-----------------------\n",
      "tensor Name : symm. tensor\n",
      "tensor Rank : 3\n",
      "contiguous  : True\n",
      "valid blocks : 4\n",
      "is diag   : False\n",
      "on device   : cytnx device: CPU\n",
      "      row           col \n",
      "         -----------    \n",
      "         |         |    \n",
      "   d  -->| 2     4 |-->  f\n",
      "         |         |    \n",
      "   e  -->| 2       |        \n",
      "         |         |    \n",
      "         -----------    \n",
      "\n",
      "-----------------------\n",
      "tensor Name : diag tensor\n",
      "tensor Rank : 2\n",
      "block_form  : False\n",
      "is_diag     : True\n",
      "on device   : cytnx device: CPU\n",
      "braket_form : False\n",
      "      row           col \n",
      "         -----------    \n",
      "         |         |    \n",
      "   g *<--| 2     2 |<--* h\n",
      "         |         |    \n",
      "         -----------    \n"
     ]
    }
   ],
   "source": [
    "# uT.print_diagram()\n",
    "Tsymm.print_diagram()\n",
    "Tdiag.print_diagram()"
   ]
  },
  {
   "cell_type": "code",
   "execution_count": 21,
   "id": "734b3557-0d88-430a-89aa-d4db3a81142f",
   "metadata": {},
   "outputs": [],
   "source": [
    "uT=cytnx.UniTensor(cytnx.ones([2,3,4])).relabels_([\"a\",\"b\",\"c\"])\n",
    "uT"
   ]
  },
  {
   "cell_type": "code",
   "execution_count": 20,
   "id": "4cedfe36-4b3c-4f83-8fc0-5eb1b81ec08c",
   "metadata": {},
   "outputs": [
    {
     "name": "stdout",
     "output_type": "stream",
     "text": [
      "-------- start of print ---------\n",
      "Tensor name: untagged tensor\n",
      "is_diag    : False\n",
      "contiguous : True\n",
      "\n",
      "Total elem: 24\n",
      "type  : Double (Float64)\n",
      "cytnx device: CPU\n",
      "Shape : (2,3,4)\n",
      "[[[1.00000e+00 1.00000e+00 1.00000e+00 1.00000e+00 ]\n",
      "  [1.00000e+00 1.00000e+00 1.00000e+00 1.00000e+00 ]\n",
      "  [1.00000e+00 1.00000e+00 1.00000e+00 1.00000e+00 ]]\n",
      " [[1.00000e+00 1.00000e+00 1.00000e+00 1.00000e+00 ]\n",
      "  [1.00000e+00 1.00000e+00 1.00000e+00 1.00000e+00 ]\n",
      "  [1.00000e+00 1.00000e+00 1.00000e+00 1.00000e+00 ]]]\n",
      "\n",
      "\n",
      "\n"
     ]
    },
    {
     "data": {
      "text/plain": []
     },
     "execution_count": 20,
     "metadata": {},
     "output_type": "execute_result"
    }
   ],
   "source": [
    "uT = cytnx.UniTensor(cytnx.ones([2,3,4]), name=\"untagged tensor\", labels=[\"a\",\"b\",\"c\"])\n",
    "uT"
   ]
  },
  {
   "cell_type": "code",
   "execution_count": 21,
   "id": "a57faf3d-9674-4880-ac93-e7104cb48aff",
   "metadata": {},
   "outputs": [
    {
     "name": "stdout",
     "output_type": "stream",
     "text": [
      "-----------------------\n",
      "tensor Name : untagged tensor\n",
      "tensor Rank : 3\n",
      "block_form  : False\n",
      "is_diag     : False\n",
      "on device   : cytnx device: CPU\n",
      "          ---------     \n",
      "         /         \\    \n",
      "   a ____| 2     3 |____ b\n",
      "         |         |    \n",
      "         |       4 |____ c\n",
      "         \\         /    \n",
      "          ---------     \n"
     ]
    }
   ],
   "source": [
    "uT.print_diagram()"
   ]
  },
  {
   "cell_type": "code",
   "execution_count": 28,
   "id": "d38bada1-dcaa-4513-9486-55c86411ed94",
   "metadata": {},
   "outputs": [
    {
     "name": "stdout",
     "output_type": "stream",
     "text": [
      "Help on method relabels_ in module cytnx.cytnx:\n",
      "\n",
      "relabels_(...) method of cytnx.cytnx.UniTensor instance\n",
      "    relabels_(self: cytnx.cytnx.UniTensor, new_labels: List[str]) -> None\n",
      "\n"
     ]
    }
   ],
   "source": [
    "help(uT.relabels_)"
   ]
  },
  {
   "cell_type": "code",
   "execution_count": 31,
   "id": "9753df9b-4063-46a7-aecc-1b60ac934b87",
   "metadata": {},
   "outputs": [
    {
     "name": "stdout",
     "output_type": "stream",
     "text": [
      "-----------------------\n",
      "tensor Name : untagged tensor\n",
      "tensor Rank : 3\n",
      "block_form  : False\n",
      "is_diag     : False\n",
      "on device   : cytnx device: CPU\n",
      "          ---------     \n",
      "         /         \\    \n",
      "   a ____| 2     3 |____ b\n",
      "         |         |    \n",
      "         |       4 |____ c\n",
      "         \\         /    \n",
      "          ---------     \n"
     ]
    }
   ],
   "source": [
    "uT.relabels([\"c\",\"e\",\"f\"])\n",
    "uT.print_diagram()"
   ]
  },
  {
   "cell_type": "code",
   "execution_count": 42,
   "id": "81890fa5-8ed6-4f37-bd24-53f9f2fb44de",
   "metadata": {},
   "outputs": [
    {
     "name": "stdout",
     "output_type": "stream",
     "text": [
      "-----------------------\n",
      "tensor Name : untagged tensor\n",
      "tensor Rank : 3\n",
      "block_form  : False\n",
      "is_diag     : False\n",
      "on device   : cytnx device: CPU\n",
      "          ---------     \n",
      "         /         \\    \n",
      "   a ____| 2     3 |____ b\n",
      "         |         |    \n",
      "         |       4 |____ c\n",
      "         \\         /    \n",
      "          ---------     \n",
      "-------- start of print ---------\n",
      "Tensor name: untagged tensor\n",
      "is_diag    : False\n",
      "contiguous : True\n",
      "\n",
      "Total elem: 24\n",
      "type  : Double (Float64)\n",
      "cytnx device: CPU\n",
      "Shape : (2,3,4)\n",
      "[[[1.00000e+00 1.00000e+00 1.00000e+00 1.00000e+00 ]\n",
      "  [1.00000e+00 1.00000e+00 1.00000e+00 1.00000e+00 ]\n",
      "  [1.00000e+00 1.00000e+00 1.00000e+00 1.00000e+00 ]]\n",
      " [[1.00000e+00 1.00000e+00 1.00000e+00 1.00000e+00 ]\n",
      "  [1.00000e+00 1.00000e+00 1.00000e+00 1.00000e+00 ]\n",
      "  [1.00000e+00 1.00000e+00 1.00000e+00 1.00000e+00 ]]]\n",
      "\n",
      "\n",
      "\n"
     ]
    },
    {
     "ename": "TypeError",
     "evalue": "relabel_(): incompatible function arguments. The following argument types are supported:\n    1. (self: cytnx.cytnx.UniTensor, idx: int, new_label: str) -> None\n    2. (self: cytnx.cytnx.UniTensor, old_label: str, new_label: str) -> None\n\nInvoked with: , ['a'], ['x']",
     "output_type": "error",
     "traceback": [
      "\u001b[0;31m---------------------------------------------------------------------------\u001b[0m",
      "\u001b[0;31mTypeError\u001b[0m                                 Traceback (most recent call last)",
      "Cell \u001b[0;32mIn [42], line 3\u001b[0m\n\u001b[1;32m      1\u001b[0m uT \u001b[38;5;241m=\u001b[39m cytnx\u001b[38;5;241m.\u001b[39mUniTensor(cytnx\u001b[38;5;241m.\u001b[39mones([\u001b[38;5;241m2\u001b[39m,\u001b[38;5;241m3\u001b[39m,\u001b[38;5;241m4\u001b[39m]), name\u001b[38;5;241m=\u001b[39m\u001b[38;5;124m\"\u001b[39m\u001b[38;5;124muntagged tensor\u001b[39m\u001b[38;5;124m\"\u001b[39m, labels\u001b[38;5;241m=\u001b[39m[\u001b[38;5;124m\"\u001b[39m\u001b[38;5;124ma\u001b[39m\u001b[38;5;124m\"\u001b[39m,\u001b[38;5;124m\"\u001b[39m\u001b[38;5;124mb\u001b[39m\u001b[38;5;124m\"\u001b[39m,\u001b[38;5;124m\"\u001b[39m\u001b[38;5;124mc\u001b[39m\u001b[38;5;124m\"\u001b[39m])\n\u001b[1;32m      2\u001b[0m uT\u001b[38;5;241m.\u001b[39mprint_diagram()\n\u001b[0;32m----> 3\u001b[0m \u001b[43muT\u001b[49m\u001b[38;5;241;43m.\u001b[39;49m\u001b[43mrelabel_\u001b[49m\u001b[43m(\u001b[49m\u001b[43m[\u001b[49m\u001b[38;5;124;43m\"\u001b[39;49m\u001b[38;5;124;43ma\u001b[39;49m\u001b[38;5;124;43m\"\u001b[39;49m\u001b[43m]\u001b[49m\u001b[43m,\u001b[49m\u001b[43m[\u001b[49m\u001b[38;5;124;43m\"\u001b[39;49m\u001b[38;5;124;43mx\u001b[39;49m\u001b[38;5;124;43m\"\u001b[39;49m\u001b[43m]\u001b[49m\u001b[43m)\u001b[49m\n\u001b[1;32m      4\u001b[0m uT\u001b[38;5;241m.\u001b[39mprint_diagram()\n",
      "\u001b[0;31mTypeError\u001b[0m: relabel_(): incompatible function arguments. The following argument types are supported:\n    1. (self: cytnx.cytnx.UniTensor, idx: int, new_label: str) -> None\n    2. (self: cytnx.cytnx.UniTensor, old_label: str, new_label: str) -> None\n\nInvoked with: , ['a'], ['x']"
     ]
    }
   ],
   "source": [
    "uT = cytnx.UniTensor(cytnx.ones([2,3,4]), name=\"untagged tensor\", labels=[\"a\",\"b\",\"c\"])\n",
    "uT.print_diagram()\n",
    "uT.relabel_([\"a\"],[\"x\"])\n",
    "uT.print_diagram()"
   ]
  },
  {
   "cell_type": "code",
   "execution_count": 41,
   "id": "f5b0ab93-3761-4cd3-b3a5-e6e1ce95d6bf",
   "metadata": {},
   "outputs": [
    {
     "name": "stdout",
     "output_type": "stream",
     "text": [
      "-----------------------\n",
      "tensor Name : untagged tensor\n",
      "tensor Rank : 3\n",
      "block_form  : False\n",
      "is_diag     : False\n",
      "on device   : cytnx device: CPU\n",
      "          ---------     \n",
      "         /         \\    \n",
      "   a ____| 2     3 |____ b\n",
      "         |         |    \n",
      "         |       4 |____ c\n",
      "         \\         /    \n",
      "          ---------     \n",
      "-----------------------\n",
      "tensor Name : untagged tensor\n",
      "tensor Rank : 3\n",
      "block_form  : False\n",
      "is_diag     : False\n",
      "on device   : cytnx device: CPU\n",
      "          ---------     \n",
      "         /         \\    \n",
      "   a ____| 2     3 |____ x\n",
      "         |         |    \n",
      "         |       4 |____ c\n",
      "         \\         /    \n",
      "          ---------     \n"
     ]
    }
   ],
   "source": [
    "uT = cytnx.UniTensor(cytnx.ones([2,3,4]), name=\"untagged tensor\", labels=[\"a\",\"b\",\"c\"])\n",
    "uT.print_diagram()\n",
    "uT.relabel_(1,\"x\")\n",
    "uT.print_diagram()"
   ]
  },
  {
   "cell_type": "code",
   "execution_count": null,
   "id": "bbf20d9d-62e8-4505-ad99-2526bcd4994d",
   "metadata": {},
   "outputs": [],
   "source": []
  }
 ],
 "metadata": {
  "kernelspec": {
   "display_name": "Python 3 (ipykernel)",
   "language": "python",
   "name": "python3"
  },
  "language_info": {
   "codemirror_mode": {
    "name": "ipython",
    "version": 3
   },
   "file_extension": ".py",
   "mimetype": "text/x-python",
   "name": "python",
   "nbconvert_exporter": "python",
   "pygments_lexer": "ipython3",
   "version": "3.10.13"
  }
 },
 "nbformat": 4,
 "nbformat_minor": 5
}
