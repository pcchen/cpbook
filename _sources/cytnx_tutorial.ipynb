{
 "cells": [
  {
   "cell_type": "markdown",
   "id": "8a856697-71d5-4de2-84fb-89d17611804a",
   "metadata": {},
   "source": [
    "# cytnx tutorial"
   ]
  },
  {
   "cell_type": "code",
   "execution_count": 4,
   "id": "bb76db28-853f-4f63-a73e-bd46f96526fb",
   "metadata": {},
   "outputs": [],
   "source": [
    "import numpy as np"
   ]
  },
  {
   "cell_type": "code",
   "execution_count": 3,
   "id": "ab799d13-851b-4943-84f8-30316e55e97d",
   "metadata": {},
   "outputs": [
    {
     "name": "stdout",
     "output_type": "stream",
     "text": [
      "cytnx 0.7.5\n"
     ]
    }
   ],
   "source": [
    "try:\n",
    "    import cytnx\n",
    "    print('cytnx', cytnx.__version__)\n",
    "except ImportError:\n",
    "    print('Fail to import cytnx')"
   ]
  },
  {
   "cell_type": "code",
   "execution_count": 13,
   "id": "dc483213-fdb7-48c1-9972-7f16137eb227",
   "metadata": {},
   "outputs": [
    {
     "name": "stdout",
     "output_type": "stream",
     "text": [
      "\n",
      "Total elem: 4\n",
      "type  : Double (Float64)\n",
      "cytnx device: CPU\n",
      "Shape : (2,2)\n",
      "[[0.00000e+00 1.00000e+00 ]\n",
      " [2.00000e+00 3.00000e+00 ]]\n",
      "\n",
      "\n"
     ]
    },
    {
     "data": {
      "text/plain": []
     },
     "execution_count": 13,
     "metadata": {},
     "output_type": "execute_result"
    }
   ],
   "source": [
    "T = cytnx.arange(4).reshape(2, 2)\n",
    "T"
   ]
  },
  {
   "cell_type": "code",
   "execution_count": 18,
   "id": "41dcf59f-adae-4645-8566-b168bdfdfbc9",
   "metadata": {},
   "outputs": [
    {
     "name": "stdout",
     "output_type": "stream",
     "text": [
      "-----------------------\n",
      "tensor Name : \n",
      "tensor Rank : 2\n",
      "block_form  : false\n",
      "is_diag     : False\n",
      "on device   : cytnx device: CPU\n",
      "            -------------      \n",
      "           /             \\     \n",
      "     0 ____| 2         2 |____ 1  \n",
      "           \\             /     \n",
      "            -------------      \n"
     ]
    }
   ],
   "source": [
    "UT = cytnx.UniTensor(T, rowrank=1)\n",
    "UT.print_diagram()"
   ]
  },
  {
   "cell_type": "code",
   "execution_count": 20,
   "id": "d33af624-9cff-4a66-bfe6-d8c593ca611d",
   "metadata": {},
   "outputs": [
    {
     "name": "stdout",
     "output_type": "stream",
     "text": [
      "\n",
      "Total elem: 8\n",
      "type  : Double (Float64)\n",
      "cytnx device: CPU\n",
      "Shape : (2,2,2)\n",
      "[[[0.00000e+00 1.00000e+00 ]\n",
      "  [2.00000e+00 3.00000e+00 ]]\n",
      " [[4.00000e+00 5.00000e+00 ]\n",
      "  [6.00000e+00 7.00000e+00 ]]]\n",
      "\n",
      "\n"
     ]
    },
    {
     "data": {
      "text/plain": []
     },
     "execution_count": 20,
     "metadata": {},
     "output_type": "execute_result"
    }
   ],
   "source": [
    "T = cytnx.arange(8).reshape(2, 2, 2)\n",
    "T"
   ]
  },
  {
   "cell_type": "code",
   "execution_count": 21,
   "id": "e18c1d38-33a2-4aaa-9a3a-8990006341aa",
   "metadata": {},
   "outputs": [
    {
     "name": "stdout",
     "output_type": "stream",
     "text": [
      "-----------------------\n",
      "tensor Name : \n",
      "tensor Rank : 3\n",
      "block_form  : false\n",
      "is_diag     : False\n",
      "on device   : cytnx device: CPU\n",
      "            -------------      \n",
      "           /             \\     \n",
      "     0 ____| 2         2 |____ 1  \n",
      "           |             |     \n",
      "           |           2 |____ 2  \n",
      "           \\             /     \n",
      "            -------------      \n"
     ]
    }
   ],
   "source": [
    "UT = cytnx.UniTensor(T, rowrank=1)\n",
    "UT.print_diagram()"
   ]
  },
  {
   "cell_type": "code",
   "execution_count": 50,
   "id": "5898b96b-acb1-4e48-a353-a0d3c4845a96",
   "metadata": {},
   "outputs": [
    {
     "name": "stdout",
     "output_type": "stream",
     "text": [
      "\n",
      "Total elem: 4\n",
      "type  : Double (Float64)\n",
      "cytnx device: CPU\n",
      "Shape : (4)\n",
      "[0.00000e+00 1.00000e+00 2.00000e+00 3.00000e+00 ]\n",
      "\n",
      "\n"
     ]
    },
    {
     "data": {
      "text/plain": []
     },
     "execution_count": 50,
     "metadata": {},
     "output_type": "execute_result"
    }
   ],
   "source": [
    "T = cytnx.arange(4)\n",
    "T"
   ]
  },
  {
   "cell_type": "code",
   "execution_count": 24,
   "id": "1fbbbdd1-4d48-49b6-996c-fe5e212c213e",
   "metadata": {},
   "outputs": [
    {
     "name": "stdout",
     "output_type": "stream",
     "text": [
      "\n",
      "Total elem: 1\n",
      "type  : Double (Float64)\n",
      "cytnx device: CPU\n",
      "Shape : (1)\n",
      "[1.40000e+01 ]\n",
      "\n",
      "\n"
     ]
    },
    {
     "data": {
      "text/plain": []
     },
     "execution_count": 24,
     "metadata": {},
     "output_type": "execute_result"
    }
   ],
   "source": [
    "T @ T"
   ]
  },
  {
   "cell_type": "code",
   "execution_count": 36,
   "id": "d2c3142f-5a2e-4cdf-b330-31da5a218f5c",
   "metadata": {},
   "outputs": [
    {
     "data": {
      "text/plain": [
       "[4, 4]"
      ]
     },
     "execution_count": 36,
     "metadata": {},
     "output_type": "execute_result"
    }
   ],
   "source": [
    "T1 = cytnx.arange(16).reshape(4,4)\n",
    "T1.shape()"
   ]
  },
  {
   "cell_type": "code",
   "execution_count": 51,
   "id": "fe7bdcb3-295a-4c0c-80fe-70b690f4a311",
   "metadata": {},
   "outputs": [
    {
     "data": {
      "text/plain": [
       "[1, 4]"
      ]
     },
     "execution_count": 51,
     "metadata": {},
     "output_type": "execute_result"
    }
   ],
   "source": [
    "T2 = cytnx.arange(4).reshape(1,4)\n",
    "T2.shape()"
   ]
  },
  {
   "cell_type": "code",
   "execution_count": 52,
   "id": "b0cbbf5c-ea68-4090-8589-cb27f6f38170",
   "metadata": {},
   "outputs": [
    {
     "name": "stdout",
     "output_type": "stream",
     "text": [
      "\n",
      "Total elem: 4\n",
      "type  : Double (Float64)\n",
      "cytnx device: CPU\n",
      "Shape : (1,4)\n",
      "[[0.00000e+00 1.00000e+00 2.00000e+00 3.00000e+00 ]]\n",
      "\n",
      "\n"
     ]
    },
    {
     "data": {
      "text/plain": []
     },
     "execution_count": 52,
     "metadata": {},
     "output_type": "execute_result"
    }
   ],
   "source": [
    "T2"
   ]
  },
  {
   "cell_type": "code",
   "execution_count": 55,
   "id": "9e4d64c2-3e5f-48cb-ad70-4c4813088a5a",
   "metadata": {},
   "outputs": [
    {
     "name": "stdout",
     "output_type": "stream",
     "text": [
      "-----------------------\n",
      "tensor Name : \n",
      "tensor Rank : 2\n",
      "block_form  : false\n",
      "is_diag     : False\n",
      "on device   : cytnx device: CPU\n",
      "            -------------      \n",
      "           /             \\     \n",
      "     0 ____| 1         4 |____ 1  \n",
      "           \\             /     \n",
      "            -------------      \n"
     ]
    }
   ],
   "source": [
    "UT2 = cytnx.UniTensor(T2, rowrank=1)\n",
    "UT2.print_diagram()"
   ]
  },
  {
   "cell_type": "code",
   "execution_count": 44,
   "id": "45d6e5c1-b69d-4e27-9502-aa50abd36d0f",
   "metadata": {},
   "outputs": [
    {
     "name": "stdout",
     "output_type": "stream",
     "text": [
      "\n",
      "Total elem: 4\n",
      "type  : Double (Float64)\n",
      "cytnx device: CPU\n",
      "Shape : (1,4)\n",
      "[[5.60000e+01 6.20000e+01 6.80000e+01 7.40000e+01 ]]\n",
      "\n",
      "\n"
     ]
    },
    {
     "data": {
      "text/plain": []
     },
     "execution_count": 44,
     "metadata": {},
     "output_type": "execute_result"
    }
   ],
   "source": [
    "T2 @ T1"
   ]
  },
  {
   "cell_type": "code",
   "execution_count": null,
   "id": "2116fd8e-c1b0-4e8e-b386-2f7eaf2d2b7e",
   "metadata": {},
   "outputs": [],
   "source": []
  },
  {
   "cell_type": "code",
   "execution_count": 48,
   "id": "04f538ca-5d5b-4146-9adb-c8c2820b43ab",
   "metadata": {},
   "outputs": [
    {
     "data": {
      "text/plain": [
       "[4, 1]"
      ]
     },
     "execution_count": 48,
     "metadata": {},
     "output_type": "execute_result"
    }
   ],
   "source": [
    "T2 = cytnx.arange(4).reshape(4,1)\n",
    "T2.shape()"
   ]
  },
  {
   "cell_type": "code",
   "execution_count": 49,
   "id": "a8f6536e-e850-4e2d-92c6-16f16b65aa26",
   "metadata": {},
   "outputs": [
    {
     "name": "stdout",
     "output_type": "stream",
     "text": [
      "\n",
      "Total elem: 4\n",
      "type  : Double (Float64)\n",
      "cytnx device: CPU\n",
      "Shape : (4,1)\n",
      "[[0.00000e+00 ]\n",
      " [1.00000e+00 ]\n",
      " [2.00000e+00 ]\n",
      " [3.00000e+00 ]]\n",
      "\n",
      "\n"
     ]
    },
    {
     "data": {
      "text/plain": []
     },
     "execution_count": 49,
     "metadata": {},
     "output_type": "execute_result"
    }
   ],
   "source": [
    "T2"
   ]
  },
  {
   "cell_type": "code",
   "execution_count": 46,
   "id": "5a8848be-3092-4e1d-849c-65f5051736bc",
   "metadata": {},
   "outputs": [
    {
     "name": "stdout",
     "output_type": "stream",
     "text": [
      "\n",
      "Total elem: 4\n",
      "type  : Double (Float64)\n",
      "cytnx device: CPU\n",
      "Shape : (4,1)\n",
      "[[1.40000e+01 ]\n",
      " [3.80000e+01 ]\n",
      " [6.20000e+01 ]\n",
      " [8.60000e+01 ]]\n",
      "\n",
      "\n"
     ]
    },
    {
     "data": {
      "text/plain": []
     },
     "execution_count": 46,
     "metadata": {},
     "output_type": "execute_result"
    }
   ],
   "source": [
    "T1 @ T2"
   ]
  },
  {
   "cell_type": "code",
   "execution_count": null,
   "id": "6a47bd15-f918-4f54-8d17-c3bb342720f4",
   "metadata": {},
   "outputs": [],
   "source": []
  }
 ],
 "metadata": {
  "kernelspec": {
   "display_name": "Python 3 (ipykernel)",
   "language": "python",
   "name": "python3"
  },
  "language_info": {
   "codemirror_mode": {
    "name": "ipython",
    "version": 3
   },
   "file_extension": ".py",
   "mimetype": "text/x-python",
   "name": "python",
   "nbconvert_exporter": "python",
   "pygments_lexer": "ipython3",
   "version": "3.9.5"
  }
 },
 "nbformat": 4,
 "nbformat_minor": 5
}
